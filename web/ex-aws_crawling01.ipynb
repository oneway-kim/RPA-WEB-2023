{
  "cells": [
    {
      "cell_type": "code",
      "execution_count": 1,
      "metadata": {
        "id": "6S-gGu707z44"
      },
      "outputs": [],
      "source": [
        "import requests\n",
        "from bs4 import BeautifulSoup\n",
        "import pandas as pd\n",
        "from time import sleep\n",
        "import re"
      ]
    },
    {
      "cell_type": "code",
      "execution_count": 2,
      "metadata": {
        "id": "FrIwvvwqZQEB"
      },
      "outputs": [],
      "source": [
        "def cleanText(readData):\n",
        "    text = re.sub('[-=+,#/\\?:^$.@*\\\"※~&%ㆍ!』\\\\‘|\\(\\)\\[\\]\\<\\>`\\'…》]','', readData)\n",
        "    return text"
      ]
    },
    {
      "cell_type": "code",
      "execution_count": 3,
      "metadata": {
        "id": "M4lM2Yw8ZQEB"
      },
      "outputs": [],
      "source": [
        "headers = {\n",
        "    'User-Agent': 'Mozilla/5.0 (Windows NT 10.0; Win64; x64; rv:94.0) Gecko/20100101 Firefox/94.0',\n",
        "    'Accept-Language': 'en-US, en;q=0.5'\n",
        "}"
      ]
    },
    {
      "cell_type": "code",
      "execution_count": 4,
      "metadata": {
        "id": "HaOBQSgJZQEC"
      },
      "outputs": [],
      "source": [
        "search_query = 'air purifier'.replace(' ', '+') # zep\n",
        "base_url = 'https://www.amazon.com/s?k={0}'.format(search_query)"
      ]
    },
    {
      "cell_type": "code",
      "execution_count": 5,
      "metadata": {
        "id": "xrLuzi-XZQEC",
        "outputId": "afd056d9-666f-4494-be3a-2d03bcb003a5",
        "colab": {
          "base_uri": "https://localhost:8080/"
        }
      },
      "outputs": [
        {
          "output_type": "stream",
          "name": "stdout",
          "text": [
            "Processing https://www.amazon.com/s?k=air+purifier&page=1...\n",
            "Processing https://www.amazon.com/s?k=air+purifier&page=2...\n",
            "Processing https://www.amazon.com/s?k=air+purifier&page=3...\n",
            "Processing https://www.amazon.com/s?k=air+purifier&page=4...\n",
            "Processing https://www.amazon.com/s?k=air+purifier&page=5...\n",
            "Processing https://www.amazon.com/s?k=air+purifier&page=6...\n",
            "Processing https://www.amazon.com/s?k=air+purifier&page=7...\n",
            "Processing https://www.amazon.com/s?k=air+purifier&page=8...\n",
            "Processing https://www.amazon.com/s?k=air+purifier&page=9...\n",
            "Processing https://www.amazon.com/s?k=air+purifier&page=10...\n",
            "Processing https://www.amazon.com/s?k=air+purifier&page=11...\n",
            "Processing https://www.amazon.com/s?k=air+purifier&page=12...\n",
            "Processing https://www.amazon.com/s?k=air+purifier&page=13...\n",
            "Processing https://www.amazon.com/s?k=air+purifier&page=14...\n",
            "Processing https://www.amazon.com/s?k=air+purifier&page=15...\n",
            "Processing https://www.amazon.com/s?k=air+purifier&page=16...\n",
            "Processing https://www.amazon.com/s?k=air+purifier&page=17...\n",
            "Processing https://www.amazon.com/s?k=air+purifier&page=18...\n",
            "Processing https://www.amazon.com/s?k=air+purifier&page=19...\n",
            "Processing https://www.amazon.com/s?k=air+purifier&page=20...\n",
            "Processing https://www.amazon.com/s?k=air+purifier&page=21...\n",
            "Processing https://www.amazon.com/s?k=air+purifier&page=22...\n",
            "Processing https://www.amazon.com/s?k=air+purifier&page=23...\n",
            "Processing https://www.amazon.com/s?k=air+purifier&page=24...\n",
            "Processing https://www.amazon.com/s?k=air+purifier&page=25...\n",
            "Processing https://www.amazon.com/s?k=air+purifier&page=26...\n",
            "Processing https://www.amazon.com/s?k=air+purifier&page=27...\n",
            "Processing https://www.amazon.com/s?k=air+purifier&page=28...\n",
            "Processing https://www.amazon.com/s?k=air+purifier&page=29...\n",
            "Processing https://www.amazon.com/s?k=air+purifier&page=30...\n",
            "Processing https://www.amazon.com/s?k=air+purifier&page=31...\n",
            "Processing https://www.amazon.com/s?k=air+purifier&page=32...\n",
            "Processing https://www.amazon.com/s?k=air+purifier&page=33...\n",
            "Processing https://www.amazon.com/s?k=air+purifier&page=34...\n",
            "Processing https://www.amazon.com/s?k=air+purifier&page=35...\n",
            "Processing https://www.amazon.com/s?k=air+purifier&page=36...\n",
            "Processing https://www.amazon.com/s?k=air+purifier&page=37...\n",
            "Processing https://www.amazon.com/s?k=air+purifier&page=38...\n",
            "Processing https://www.amazon.com/s?k=air+purifier&page=39...\n",
            "Processing https://www.amazon.com/s?k=air+purifier&page=40...\n",
            "Processing https://www.amazon.com/s?k=air+purifier&page=41...\n",
            "Processing https://www.amazon.com/s?k=air+purifier&page=42...\n",
            "Processing https://www.amazon.com/s?k=air+purifier&page=43...\n",
            "Processing https://www.amazon.com/s?k=air+purifier&page=44...\n",
            "Processing https://www.amazon.com/s?k=air+purifier&page=45...\n",
            "Processing https://www.amazon.com/s?k=air+purifier&page=46...\n",
            "Processing https://www.amazon.com/s?k=air+purifier&page=47...\n",
            "Processing https://www.amazon.com/s?k=air+purifier&page=48...\n",
            "Processing https://www.amazon.com/s?k=air+purifier&page=49...\n"
          ]
        }
      ],
      "source": [
        "items = []\n",
        "for i in range(1, 50):\n",
        "    print('Processing {0}...'.format(base_url + '&page={0}'.format(i)))\n",
        "    response = requests.get(base_url + '&page={0}'.format(i), headers=headers)\n",
        "    soup = BeautifulSoup(response.content, 'html.parser')\n",
        "\n",
        "    results = soup.find_all('div', {'class': 's-result-item', 'data-component-type': 's-search-result'})\n",
        "\n",
        "    for result in results:\n",
        "        product_name = result.h2.text\n",
        "\n",
        "        try:\n",
        "            rating = result.find('i', {'class': 'a-icon'}).text\n",
        "            rating_count = result.find_all('span', {'aria-label': True})[1].text\n",
        "        except AttributeError:\n",
        "            continue\n",
        "\n",
        "        try:\n",
        "            price1 = result.find('span', {'class': 'a-price-whole'}).text\n",
        "            price1 = cleanText(price1)\n",
        "            price2 = result.find('span', {'class': 'a-price-fraction'}).text\n",
        "            price2 = cleanText(price2)\n",
        "            price = float(price1 + price2)\n",
        "            product_url = 'https://amazon.com' + result.h2.a['href']\n",
        "            # print(rating_count, product_url)\n",
        "            items.append([product_name, rating, rating_count, price, product_url])\n",
        "        except AttributeError:\n",
        "            continue\n",
        "    sleep(1.5)"
      ]
    },
    {
      "cell_type": "code",
      "execution_count": 6,
      "metadata": {
        "id": "YFtZUqCUZQED"
      },
      "outputs": [],
      "source": [
        "df = pd.DataFrame(items, columns=['product', 'rating', 'rating count', 'price', 'product url'])\n",
        "df['price'] = df['price']/100\n",
        "df.to_csv('{0}.csv'.format(search_query), index=False)"
      ]
    },
    {
      "cell_type": "code",
      "execution_count": 24,
      "metadata": {
        "id": "O8SGmoyGZQED",
        "outputId": "46304c51-38cc-4817-8da3-af5b402fa607",
        "colab": {
          "base_uri": "https://localhost:8080/",
          "height": 81
        }
      },
      "outputs": [
        {
          "output_type": "execute_result",
          "data": {
            "text/plain": [
              "    0               1          2\n",
              "0 NaN  Product Detail  image url"
            ],
            "text/html": [
              "\n",
              "  <div id=\"df-7dc00dd5-c3fb-4bdd-8d65-51de90dd02d5\">\n",
              "    <div class=\"colab-df-container\">\n",
              "      <div>\n",
              "<style scoped>\n",
              "    .dataframe tbody tr th:only-of-type {\n",
              "        vertical-align: middle;\n",
              "    }\n",
              "\n",
              "    .dataframe tbody tr th {\n",
              "        vertical-align: top;\n",
              "    }\n",
              "\n",
              "    .dataframe thead th {\n",
              "        text-align: right;\n",
              "    }\n",
              "</style>\n",
              "<table border=\"1\" class=\"dataframe\">\n",
              "  <thead>\n",
              "    <tr style=\"text-align: right;\">\n",
              "      <th></th>\n",
              "      <th>0</th>\n",
              "      <th>1</th>\n",
              "      <th>2</th>\n",
              "    </tr>\n",
              "  </thead>\n",
              "  <tbody>\n",
              "    <tr>\n",
              "      <th>0</th>\n",
              "      <td>NaN</td>\n",
              "      <td>Product Detail</td>\n",
              "      <td>image url</td>\n",
              "    </tr>\n",
              "  </tbody>\n",
              "</table>\n",
              "</div>\n",
              "      <button class=\"colab-df-convert\" onclick=\"convertToInteractive('df-7dc00dd5-c3fb-4bdd-8d65-51de90dd02d5')\"\n",
              "              title=\"Convert this dataframe to an interactive table.\"\n",
              "              style=\"display:none;\">\n",
              "        \n",
              "  <svg xmlns=\"http://www.w3.org/2000/svg\" height=\"24px\"viewBox=\"0 0 24 24\"\n",
              "       width=\"24px\">\n",
              "    <path d=\"M0 0h24v24H0V0z\" fill=\"none\"/>\n",
              "    <path d=\"M18.56 5.44l.94 2.06.94-2.06 2.06-.94-2.06-.94-.94-2.06-.94 2.06-2.06.94zm-11 1L8.5 8.5l.94-2.06 2.06-.94-2.06-.94L8.5 2.5l-.94 2.06-2.06.94zm10 10l.94 2.06.94-2.06 2.06-.94-2.06-.94-.94-2.06-.94 2.06-2.06.94z\"/><path d=\"M17.41 7.96l-1.37-1.37c-.4-.4-.92-.59-1.43-.59-.52 0-1.04.2-1.43.59L10.3 9.45l-7.72 7.72c-.78.78-.78 2.05 0 2.83L4 21.41c.39.39.9.59 1.41.59.51 0 1.02-.2 1.41-.59l7.78-7.78 2.81-2.81c.8-.78.8-2.07 0-2.86zM5.41 20L4 18.59l7.72-7.72 1.47 1.35L5.41 20z\"/>\n",
              "  </svg>\n",
              "      </button>\n",
              "      \n",
              "  <style>\n",
              "    .colab-df-container {\n",
              "      display:flex;\n",
              "      flex-wrap:wrap;\n",
              "      gap: 12px;\n",
              "    }\n",
              "\n",
              "    .colab-df-convert {\n",
              "      background-color: #E8F0FE;\n",
              "      border: none;\n",
              "      border-radius: 50%;\n",
              "      cursor: pointer;\n",
              "      display: none;\n",
              "      fill: #1967D2;\n",
              "      height: 32px;\n",
              "      padding: 0 0 0 0;\n",
              "      width: 32px;\n",
              "    }\n",
              "\n",
              "    .colab-df-convert:hover {\n",
              "      background-color: #E2EBFA;\n",
              "      box-shadow: 0px 1px 2px rgba(60, 64, 67, 0.3), 0px 1px 3px 1px rgba(60, 64, 67, 0.15);\n",
              "      fill: #174EA6;\n",
              "    }\n",
              "\n",
              "    [theme=dark] .colab-df-convert {\n",
              "      background-color: #3B4455;\n",
              "      fill: #D2E3FC;\n",
              "    }\n",
              "\n",
              "    [theme=dark] .colab-df-convert:hover {\n",
              "      background-color: #434B5C;\n",
              "      box-shadow: 0px 1px 3px 1px rgba(0, 0, 0, 0.15);\n",
              "      filter: drop-shadow(0px 1px 2px rgba(0, 0, 0, 0.3));\n",
              "      fill: #FFFFFF;\n",
              "    }\n",
              "  </style>\n",
              "\n",
              "      <script>\n",
              "        const buttonEl =\n",
              "          document.querySelector('#df-7dc00dd5-c3fb-4bdd-8d65-51de90dd02d5 button.colab-df-convert');\n",
              "        buttonEl.style.display =\n",
              "          google.colab.kernel.accessAllowed ? 'block' : 'none';\n",
              "\n",
              "        async function convertToInteractive(key) {\n",
              "          const element = document.querySelector('#df-7dc00dd5-c3fb-4bdd-8d65-51de90dd02d5');\n",
              "          const dataTable =\n",
              "            await google.colab.kernel.invokeFunction('convertToInteractive',\n",
              "                                                     [key], {});\n",
              "          if (!dataTable) return;\n",
              "\n",
              "          const docLinkHtml = 'Like what you see? Visit the ' +\n",
              "            '<a target=\"_blank\" href=https://colab.research.google.com/notebooks/data_table.ipynb>data table notebook</a>'\n",
              "            + ' to learn more about interactive tables.';\n",
              "          element.innerHTML = '';\n",
              "          dataTable['output_type'] = 'display_data';\n",
              "          await google.colab.output.renderOutput(dataTable, element);\n",
              "          const docLink = document.createElement('div');\n",
              "          docLink.innerHTML = docLinkHtml;\n",
              "          element.appendChild(docLink);\n",
              "        }\n",
              "      </script>\n",
              "    </div>\n",
              "  </div>\n",
              "  "
            ]
          },
          "metadata": {},
          "execution_count": 24
        }
      ],
      "source": [
        "df.tail()"
      ]
    },
    {
      "cell_type": "code",
      "execution_count": 8,
      "metadata": {
        "id": "ML_ZhKGkZQEE"
      },
      "outputs": [],
      "source": [
        "df.to_csv('amazon-1017.csv')"
      ]
    },
    {
      "cell_type": "code",
      "execution_count": 9,
      "metadata": {
        "id": "e0oIICWLZQEE"
      },
      "outputs": [],
      "source": [
        "df['product url'].to_csv('amazon-url.csv')"
      ]
    },
    {
      "cell_type": "code",
      "execution_count": 9,
      "metadata": {
        "id": "JE_SZ0VmZQEE"
      },
      "outputs": [],
      "source": []
    },
    {
      "cell_type": "code",
      "execution_count": 9,
      "metadata": {
        "id": "Yk0QhqXmZQEE"
      },
      "outputs": [],
      "source": []
    },
    {
      "cell_type": "markdown",
      "metadata": {
        "id": "viR9kdLPZQEE"
      },
      "source": [
        "### 새로 시작 하세요! - Kernel restart"
      ]
    },
    {
      "cell_type": "code",
      "execution_count": 9,
      "metadata": {
        "id": "hpB2SRvIZQEF"
      },
      "outputs": [],
      "source": []
    },
    {
      "cell_type": "code",
      "execution_count": 10,
      "metadata": {
        "id": "OSmdL0M5ZQEF"
      },
      "outputs": [],
      "source": [
        "headers = {\n",
        "    'User-Agent': 'Mozilla/5.0 (Windows NT 10.0; Win64; x64; rv:94.0) Gecko/20100101 Firefox/94.0',\n",
        "    'Accept-Language': 'en-US, en;q=0.5'\n",
        "}"
      ]
    },
    {
      "cell_type": "code",
      "execution_count": 11,
      "metadata": {
        "id": "gEXinZ8FZQEG"
      },
      "outputs": [],
      "source": [
        "import pandas as pd\n",
        "import requests\n",
        "from bs4 import BeautifulSoup\n",
        "from time import sleep\n",
        "# import simplified_scrapy\n",
        "# from simplified_scrapy.simplified_doc import SimplifiedDoc"
      ]
    },
    {
      "cell_type": "code",
      "execution_count": 12,
      "metadata": {
        "id": "Q2mWeJgNZQEG"
      },
      "outputs": [],
      "source": [
        "df = pd.read_csv(\"amazon-url.csv\", header=None)"
      ]
    },
    {
      "cell_type": "code",
      "execution_count": 13,
      "metadata": {
        "id": "eBv4vwKgZQEG",
        "outputId": "2908e547-82fb-4ce0-bed9-859089f625ce",
        "colab": {
          "base_uri": "https://localhost:8080/"
        }
      },
      "outputs": [
        {
          "output_type": "execute_result",
          "data": {
            "text/plain": [
              "Int64Index([0, 1], dtype='int64')"
            ]
          },
          "metadata": {},
          "execution_count": 13
        }
      ],
      "source": [
        "df.columns"
      ]
    },
    {
      "cell_type": "code",
      "execution_count": 14,
      "metadata": {
        "id": "ANoITF4LZQEG"
      },
      "outputs": [],
      "source": [
        "images = []"
      ]
    },
    {
      "cell_type": "code",
      "execution_count": 15,
      "metadata": {
        "id": "XE4gozE4ZQEG"
      },
      "outputs": [],
      "source": [
        "# url = df.iloc[1,1]\n",
        "# response = requests.get(url, headers=headers)\n",
        "# soup = BeautifulSoup(response.content, 'html.parser')\n",
        "# results = soup.find_all('div', {'id': 'imgTagWrapperId', 'class': 'imgTagWrapper'})\n",
        "# for result in results:\n",
        "#     print(result)\n",
        "#     image_url = result.img['src']\n",
        "#     image_tag = result.img['alt']\n",
        "#     images.append([images_tag, image_url])\n",
        "\n",
        "# print(image_url)\n",
        "# sleep(0.5)"
      ]
    },
    {
      "cell_type": "code",
      "execution_count": 15,
      "metadata": {
        "id": "93pdaideZQEH"
      },
      "outputs": [],
      "source": []
    },
    {
      "cell_type": "code",
      "execution_count": 16,
      "metadata": {
        "id": "nJN_EhP1ZQEH",
        "outputId": "115f8525-d27f-4f66-efdc-2c077716fb5e",
        "colab": {
          "base_uri": "https://localhost:8080/",
          "height": 81
        }
      },
      "outputs": [
        {
          "output_type": "execute_result",
          "data": {
            "text/plain": [
              "    0            1\n",
              "0 NaN  product url"
            ],
            "text/html": [
              "\n",
              "  <div id=\"df-2ecfce9b-22ae-4b9a-b27c-5edf9d3938eb\">\n",
              "    <div class=\"colab-df-container\">\n",
              "      <div>\n",
              "<style scoped>\n",
              "    .dataframe tbody tr th:only-of-type {\n",
              "        vertical-align: middle;\n",
              "    }\n",
              "\n",
              "    .dataframe tbody tr th {\n",
              "        vertical-align: top;\n",
              "    }\n",
              "\n",
              "    .dataframe thead th {\n",
              "        text-align: right;\n",
              "    }\n",
              "</style>\n",
              "<table border=\"1\" class=\"dataframe\">\n",
              "  <thead>\n",
              "    <tr style=\"text-align: right;\">\n",
              "      <th></th>\n",
              "      <th>0</th>\n",
              "      <th>1</th>\n",
              "    </tr>\n",
              "  </thead>\n",
              "  <tbody>\n",
              "    <tr>\n",
              "      <th>0</th>\n",
              "      <td>NaN</td>\n",
              "      <td>product url</td>\n",
              "    </tr>\n",
              "  </tbody>\n",
              "</table>\n",
              "</div>\n",
              "      <button class=\"colab-df-convert\" onclick=\"convertToInteractive('df-2ecfce9b-22ae-4b9a-b27c-5edf9d3938eb')\"\n",
              "              title=\"Convert this dataframe to an interactive table.\"\n",
              "              style=\"display:none;\">\n",
              "        \n",
              "  <svg xmlns=\"http://www.w3.org/2000/svg\" height=\"24px\"viewBox=\"0 0 24 24\"\n",
              "       width=\"24px\">\n",
              "    <path d=\"M0 0h24v24H0V0z\" fill=\"none\"/>\n",
              "    <path d=\"M18.56 5.44l.94 2.06.94-2.06 2.06-.94-2.06-.94-.94-2.06-.94 2.06-2.06.94zm-11 1L8.5 8.5l.94-2.06 2.06-.94-2.06-.94L8.5 2.5l-.94 2.06-2.06.94zm10 10l.94 2.06.94-2.06 2.06-.94-2.06-.94-.94-2.06-.94 2.06-2.06.94z\"/><path d=\"M17.41 7.96l-1.37-1.37c-.4-.4-.92-.59-1.43-.59-.52 0-1.04.2-1.43.59L10.3 9.45l-7.72 7.72c-.78.78-.78 2.05 0 2.83L4 21.41c.39.39.9.59 1.41.59.51 0 1.02-.2 1.41-.59l7.78-7.78 2.81-2.81c.8-.78.8-2.07 0-2.86zM5.41 20L4 18.59l7.72-7.72 1.47 1.35L5.41 20z\"/>\n",
              "  </svg>\n",
              "      </button>\n",
              "      \n",
              "  <style>\n",
              "    .colab-df-container {\n",
              "      display:flex;\n",
              "      flex-wrap:wrap;\n",
              "      gap: 12px;\n",
              "    }\n",
              "\n",
              "    .colab-df-convert {\n",
              "      background-color: #E8F0FE;\n",
              "      border: none;\n",
              "      border-radius: 50%;\n",
              "      cursor: pointer;\n",
              "      display: none;\n",
              "      fill: #1967D2;\n",
              "      height: 32px;\n",
              "      padding: 0 0 0 0;\n",
              "      width: 32px;\n",
              "    }\n",
              "\n",
              "    .colab-df-convert:hover {\n",
              "      background-color: #E2EBFA;\n",
              "      box-shadow: 0px 1px 2px rgba(60, 64, 67, 0.3), 0px 1px 3px 1px rgba(60, 64, 67, 0.15);\n",
              "      fill: #174EA6;\n",
              "    }\n",
              "\n",
              "    [theme=dark] .colab-df-convert {\n",
              "      background-color: #3B4455;\n",
              "      fill: #D2E3FC;\n",
              "    }\n",
              "\n",
              "    [theme=dark] .colab-df-convert:hover {\n",
              "      background-color: #434B5C;\n",
              "      box-shadow: 0px 1px 3px 1px rgba(0, 0, 0, 0.15);\n",
              "      filter: drop-shadow(0px 1px 2px rgba(0, 0, 0, 0.3));\n",
              "      fill: #FFFFFF;\n",
              "    }\n",
              "  </style>\n",
              "\n",
              "      <script>\n",
              "        const buttonEl =\n",
              "          document.querySelector('#df-2ecfce9b-22ae-4b9a-b27c-5edf9d3938eb button.colab-df-convert');\n",
              "        buttonEl.style.display =\n",
              "          google.colab.kernel.accessAllowed ? 'block' : 'none';\n",
              "\n",
              "        async function convertToInteractive(key) {\n",
              "          const element = document.querySelector('#df-2ecfce9b-22ae-4b9a-b27c-5edf9d3938eb');\n",
              "          const dataTable =\n",
              "            await google.colab.kernel.invokeFunction('convertToInteractive',\n",
              "                                                     [key], {});\n",
              "          if (!dataTable) return;\n",
              "\n",
              "          const docLinkHtml = 'Like what you see? Visit the ' +\n",
              "            '<a target=\"_blank\" href=https://colab.research.google.com/notebooks/data_table.ipynb>data table notebook</a>'\n",
              "            + ' to learn more about interactive tables.';\n",
              "          element.innerHTML = '';\n",
              "          dataTable['output_type'] = 'display_data';\n",
              "          await google.colab.output.renderOutput(dataTable, element);\n",
              "          const docLink = document.createElement('div');\n",
              "          docLink.innerHTML = docLinkHtml;\n",
              "          element.appendChild(docLink);\n",
              "        }\n",
              "      </script>\n",
              "    </div>\n",
              "  </div>\n",
              "  "
            ]
          },
          "metadata": {},
          "execution_count": 16
        }
      ],
      "source": [
        "# for idx, row in df.iterrows():\n",
        "# url = df.iloc[idx+1,1]\n",
        "df.head()"
      ]
    },
    {
      "cell_type": "code",
      "execution_count": 17,
      "metadata": {
        "id": "uuC5O-j1ZQEH",
        "outputId": "e0f3f541-0dd5-4021-e109-8353c140bd8f",
        "colab": {
          "base_uri": "https://localhost:8080/"
        }
      },
      "outputs": [
        {
          "output_type": "stream",
          "name": "stdout",
          "text": [
            "<!--\n",
            "        To discuss automated access to Amazon data please contact api-services-support@amazon.com.\n",
            "        For information about migrating to our APIs refer to our Marketplace APIs at https://developer.amazonservices.com/ref=rm_5_sv, or our Product Advertising API at https://affiliate-program.amazon.com/gp/advertising/api/detail/main.html/ref=rm_5_ac for advertising use cases.\n",
            "-->\n",
            "<!DOCTYPE html>\n",
            "\n",
            "<html>\n",
            "<head>\n",
            "<meta charset=\"utf-8\"/>\n",
            "<meta content=\"ie=edge\" http-equiv=\"x-ua-compatible\"/>\n",
            "<meta content=\"width=device-width, initial-scale=1, shrink-to-fit=no\" name=\"viewport\"/>\n",
            "<title>Sorry! Something went wrong!</title>\n",
            "<style>\n",
            "  html, body {\n",
            "    padding: 0;\n",
            "    margin: 0\n",
            "  }\n",
            "\n",
            "  img {\n",
            "    border: 0\n",
            "  }\n",
            "\n",
            "  #a {\n",
            "    background: #232f3e;\n",
            "    padding: 11px 11px 11px 192px\n",
            "  }\n",
            "\n",
            "  #b {\n",
            "    position: absolute;\n",
            "    left: 22px;\n",
            "    top: 12px\n",
            "  }\n",
            "\n",
            "  #c {\n",
            "    position: relative;\n",
            "    max-width: 800px;\n",
            "    padding: 0 40px 0 0\n",
            "  }\n",
            "\n",
            "  #e, #f {\n",
            "    height: 35px;\n",
            "    border: 0;\n",
            "    font-size: 1em\n",
            "  }\n",
            "\n",
            "  #e {\n",
            "    width: 100%;\n",
            "    margin: 0;\n",
            "    padding: 0 10px;\n",
            "    border-radius: 4px 0 0 4px\n",
            "  }\n",
            "\n",
            "  #f {\n",
            "    cursor: pointer;\n",
            "    background: #febd69;\n",
            "    font-weight: bold;\n",
            "    border-radius: 0 4px 4px 0;\n",
            "    -webkit-appearance: none;\n",
            "    position: absolute;\n",
            "    top: 0;\n",
            "    right: 0;\n",
            "    padding: 0 12px\n",
            "  }\n",
            "\n",
            "  @media (max-width: 500px) {\n",
            "    #a {\n",
            "      padding: 55px 10px 10px\n",
            "    }\n",
            "\n",
            "    #b {\n",
            "      left: 6px\n",
            "    }\n",
            "  }\n",
            "\n",
            "  #g {\n",
            "    text-align: center;\n",
            "    margin: 30px 0\n",
            "  }\n",
            "\n",
            "  #g img {\n",
            "    max-width: 90%\n",
            "  }\n",
            "\n",
            "  #d {\n",
            "    display: none\n",
            "  }\n",
            "\n",
            "  #d[src] {\n",
            "    display: inline\n",
            "  }\n",
            "  </style>\n",
            "</head>\n",
            "<body>\n",
            "<a href=\"/ref=cs_503_logo\"><img alt=\"Amazon.com\" id=\"b\" src=\"https://images-na.ssl-images-amazon.com/images/G/01/error/logo._TTD_.png\"/></a>\n",
            "<form accept-charset=\"utf-8\" action=\"/s\" id=\"a\" method=\"GET\" role=\"search\">\n",
            "<div id=\"c\">\n",
            "<input id=\"e\" name=\"field-keywords\" placeholder=\"Search\"/>\n",
            "<input name=\"ref\" type=\"hidden\" value=\"cs_503_search\"/>\n",
            "<input id=\"f\" type=\"submit\" value=\"Go\"/>\n",
            "</div>\n",
            "</form>\n",
            "<div id=\"g\">\n",
            "<div><a href=\"/ref=cs_503_link\"><img alt=\"Sorry! Something went wrong on our end. Please go back and try again or go to Amazon's home page.\" src=\"https://images-na.ssl-images-amazon.com/images/G/01/error/500_503.png\"/></a>\n",
            "</div>\n",
            "<a href=\"/dogsofamazon/ref=cs_503_d\" rel=\"noopener noreferrer\" target=\"_blank\"><img alt=\"Dogs of Amazon\" id=\"d\"/></a>\n",
            "<script>document.getElementById(\"d\").src = \"https://images-na.ssl-images-amazon.com/images/G/01/error/\" + (Math.floor(Math.random() * 43) + 1) + \"._TTD_.jpg\";</script>\n",
            "</div>\n",
            "</body>\n",
            "</html>\n",
            "\n",
            "[<div id=\"c\">\n",
            "<input id=\"e\" name=\"field-keywords\" placeholder=\"Search\"/>\n",
            "<input name=\"ref\" type=\"hidden\" value=\"cs_503_search\"/>\n",
            "<input id=\"f\" type=\"submit\" value=\"Go\"/>\n",
            "</div>, <div id=\"g\">\n",
            "<div><a href=\"/ref=cs_503_link\"><img alt=\"Sorry! Something went wrong on our end. Please go back and try again or go to Amazon's home page.\" src=\"https://images-na.ssl-images-amazon.com/images/G/01/error/500_503.png\"/></a>\n",
            "</div>\n",
            "<a href=\"/dogsofamazon/ref=cs_503_d\" rel=\"noopener noreferrer\" target=\"_blank\"><img alt=\"Dogs of Amazon\" id=\"d\"/></a>\n",
            "<script>document.getElementById(\"d\").src = \"https://images-na.ssl-images-amazon.com/images/G/01/error/\" + (Math.floor(Math.random() * 43) + 1) + \"._TTD_.jpg\";</script>\n",
            "</div>, <div><a href=\"/ref=cs_503_link\"><img alt=\"Sorry! Something went wrong on our end. Please go back and try again or go to Amazon's home page.\" src=\"https://images-na.ssl-images-amazon.com/images/G/01/error/500_503.png\"/></a>\n",
            "</div>]\n"
          ]
        }
      ],
      "source": [
        "#url = df.iloc[1,1]\n",
        "url='https://www.amazon.com/Medify-MA-50-Air-Purifier-filter/dp/B08S2Y6CTX/ref=sr_1_1_sspa?keywords=air%2Bpurifier&qid=1665383112&qu=eyJxc2MiOiI2LjY4IiwicXNhIjoiNi40NSIsInFzcCI6IjYuMTUifQ%3D%3D&sr=8-1-spons&spLa=ZW5jcnlwdGVkUXVhbGlmaWVyPUEzVVo0WkZVVzc1WUNZJmVuY3J5cHRlZElkPUExMDEzNDk1M0xTRVg2UEU3NkJYWCZlbmNyeXB0ZWRBZElkPUEwMjcyNTIwU1lHODNJTldaM1M0JndpZGdldE5hbWU9c3BfYXRmJmFjdGlvbj1jbGlja1JlZGlyZWN0JmRvTm90TG9nQ2xpY2s9dHJ1ZQ&th=1'\n",
        "#response = requests.get(url, headers=headers)\n",
        "response = requests.get(url)\n",
        "#soup = BeautifulSoup(response.text, 'html.parser')\n",
        "soup = BeautifulSoup(response.content, 'html.parser')\n",
        "print(soup)\n",
        "\n",
        "#results = soup.find_all('div', {'class': 'a-section a-spacing-small a-spacing-top-small'})\n",
        "#results = soup.select('div.a-section a-spacing-small a-spacing-top-small')\n",
        "#results = soup.find_all('div')\n",
        "results = soup.select('div')\n",
        "print(results)"
      ]
    },
    {
      "cell_type": "code",
      "execution_count": 18,
      "metadata": {
        "id": "fMv3bdx1ZQEI",
        "outputId": "75416bf8-1a5d-403b-8833-67af7fd5680e",
        "colab": {
          "base_uri": "https://localhost:8080/",
          "height": 35
        }
      },
      "outputs": [
        {
          "output_type": "execute_result",
          "data": {
            "text/plain": [
              "\"\\n#for result in results:\\n    # print(result)\\n    image_tag = result.img['alt']\\n    image_url = result.img['src']\\n    images.append([image_tag, image_url])\\n    \""
            ],
            "application/vnd.google.colaboratory.intrinsic+json": {
              "type": "string"
            }
          },
          "metadata": {},
          "execution_count": 18
        }
      ],
      "source": [
        "'''\n",
        "#for result in results:\n",
        "    # print(result)\n",
        "    image_tag = result.img['alt']\n",
        "    image_url = result.img['src']\n",
        "    images.append([image_tag, image_url])\n",
        "    '''\n",
        "\n",
        "    # print(image_url)\n",
        "    # sleep(0.5)"
      ]
    },
    {
      "cell_type": "code",
      "execution_count": 19,
      "metadata": {
        "id": "Yk_GZPooZQEI"
      },
      "outputs": [],
      "source": [
        "df_images = pd.DataFrame(images, columns=['Product Detail', 'image url'])"
      ]
    },
    {
      "cell_type": "code",
      "execution_count": 20,
      "metadata": {
        "id": "IXAdqLRLZQEI"
      },
      "outputs": [],
      "source": [
        "df_images.to_csv('amazon_images_url.csv')"
      ]
    },
    {
      "cell_type": "code",
      "execution_count": 20,
      "metadata": {
        "id": "lKEF6ZH1ZQEI"
      },
      "outputs": [],
      "source": []
    },
    {
      "cell_type": "code",
      "execution_count": 20,
      "metadata": {
        "id": "k2GGjc2BZQEI"
      },
      "outputs": [],
      "source": []
    },
    {
      "cell_type": "code",
      "execution_count": 20,
      "metadata": {
        "id": "YjQl9fu-ZQEI"
      },
      "outputs": [],
      "source": []
    },
    {
      "cell_type": "markdown",
      "metadata": {
        "id": "TsOqiKjSZQEI"
      },
      "source": [
        "### Kernel 다시 시작해 주세요!"
      ]
    },
    {
      "cell_type": "markdown",
      "metadata": {
        "id": "L8ssGGbkZQEJ"
      },
      "source": [
        "### URL로부터 image 가져오기"
      ]
    },
    {
      "cell_type": "code",
      "execution_count": 21,
      "metadata": {
        "id": "nAc7SDddZQEJ"
      },
      "outputs": [],
      "source": [
        "import pandas as pd\n",
        "import urllib.request\n",
        "import re\n",
        "import sys"
      ]
    },
    {
      "cell_type": "code",
      "execution_count": 22,
      "metadata": {
        "id": "WE_JNa8OZQEJ"
      },
      "outputs": [],
      "source": [
        "df = pd.read_csv(\"amazon_images_url.csv\", header=None)"
      ]
    },
    {
      "cell_type": "code",
      "execution_count": 22,
      "metadata": {
        "id": "uJMC6DCnZQEJ"
      },
      "outputs": [],
      "source": []
    },
    {
      "cell_type": "code",
      "execution_count": 23,
      "metadata": {
        "id": "dc_djb31ZQEJ",
        "outputId": "36b0973b-95dd-43bb-d413-ac7d13a633c2",
        "colab": {
          "base_uri": "https://localhost:8080/",
          "height": 400
        }
      },
      "outputs": [
        {
          "output_type": "error",
          "ename": "IndexError",
          "evalue": "ignored",
          "traceback": [
            "\u001b[0;31m---------------------------------------------------------------------------\u001b[0m",
            "\u001b[0;31mIndexError\u001b[0m                                Traceback (most recent call last)",
            "\u001b[0;32m<ipython-input-23-793c979c3b24>\u001b[0m in \u001b[0;36m<cell line: 1>\u001b[0;34m()\u001b[0m\n\u001b[1;32m      1\u001b[0m \u001b[0;32mfor\u001b[0m \u001b[0midx\u001b[0m\u001b[0;34m,\u001b[0m \u001b[0mrow\u001b[0m \u001b[0;32min\u001b[0m \u001b[0mdf\u001b[0m\u001b[0;34m.\u001b[0m\u001b[0miterrows\u001b[0m\u001b[0;34m(\u001b[0m\u001b[0;34m)\u001b[0m\u001b[0;34m:\u001b[0m\u001b[0;34m\u001b[0m\u001b[0;34m\u001b[0m\u001b[0m\n\u001b[0;32m----> 2\u001b[0;31m     \u001b[0murl\u001b[0m \u001b[0;34m=\u001b[0m \u001b[0mdf\u001b[0m\u001b[0;34m.\u001b[0m\u001b[0miloc\u001b[0m\u001b[0;34m[\u001b[0m\u001b[0midx\u001b[0m\u001b[0;34m+\u001b[0m\u001b[0;36m1\u001b[0m\u001b[0;34m,\u001b[0m\u001b[0;36m2\u001b[0m\u001b[0;34m]\u001b[0m\u001b[0;34m\u001b[0m\u001b[0;34m\u001b[0m\u001b[0m\n\u001b[0m\u001b[1;32m      3\u001b[0m     \u001b[0mfile_name\u001b[0m \u001b[0;34m=\u001b[0m \u001b[0;34m'.\\\\amazon_images\\\\{0}.jpg'\u001b[0m\u001b[0;34m.\u001b[0m\u001b[0mformat\u001b[0m\u001b[0;34m(\u001b[0m\u001b[0midx\u001b[0m\u001b[0;34m)\u001b[0m\u001b[0;34m\u001b[0m\u001b[0;34m\u001b[0m\u001b[0m\n\u001b[1;32m      4\u001b[0m     \u001b[0;31m# urllib.request.urlretrieve(url, file_name)\u001b[0m\u001b[0;34m\u001b[0m\u001b[0;34m\u001b[0m\u001b[0m\n\u001b[1;32m      5\u001b[0m     \u001b[0;32mtry\u001b[0m\u001b[0;34m:\u001b[0m\u001b[0;34m\u001b[0m\u001b[0;34m\u001b[0m\u001b[0m\n",
            "\u001b[0;32m/usr/local/lib/python3.10/dist-packages/pandas/core/indexing.py\u001b[0m in \u001b[0;36m__getitem__\u001b[0;34m(self, key)\u001b[0m\n\u001b[1;32m   1064\u001b[0m             \u001b[0mkey\u001b[0m \u001b[0;34m=\u001b[0m \u001b[0mtuple\u001b[0m\u001b[0;34m(\u001b[0m\u001b[0mcom\u001b[0m\u001b[0;34m.\u001b[0m\u001b[0mapply_if_callable\u001b[0m\u001b[0;34m(\u001b[0m\u001b[0mx\u001b[0m\u001b[0;34m,\u001b[0m \u001b[0mself\u001b[0m\u001b[0;34m.\u001b[0m\u001b[0mobj\u001b[0m\u001b[0;34m)\u001b[0m \u001b[0;32mfor\u001b[0m \u001b[0mx\u001b[0m \u001b[0;32min\u001b[0m \u001b[0mkey\u001b[0m\u001b[0;34m)\u001b[0m\u001b[0;34m\u001b[0m\u001b[0;34m\u001b[0m\u001b[0m\n\u001b[1;32m   1065\u001b[0m             \u001b[0;32mif\u001b[0m \u001b[0mself\u001b[0m\u001b[0;34m.\u001b[0m\u001b[0m_is_scalar_access\u001b[0m\u001b[0;34m(\u001b[0m\u001b[0mkey\u001b[0m\u001b[0;34m)\u001b[0m\u001b[0;34m:\u001b[0m\u001b[0;34m\u001b[0m\u001b[0;34m\u001b[0m\u001b[0m\n\u001b[0;32m-> 1066\u001b[0;31m                 \u001b[0;32mreturn\u001b[0m \u001b[0mself\u001b[0m\u001b[0;34m.\u001b[0m\u001b[0mobj\u001b[0m\u001b[0;34m.\u001b[0m\u001b[0m_get_value\u001b[0m\u001b[0;34m(\u001b[0m\u001b[0;34m*\u001b[0m\u001b[0mkey\u001b[0m\u001b[0;34m,\u001b[0m \u001b[0mtakeable\u001b[0m\u001b[0;34m=\u001b[0m\u001b[0mself\u001b[0m\u001b[0;34m.\u001b[0m\u001b[0m_takeable\u001b[0m\u001b[0;34m)\u001b[0m\u001b[0;34m\u001b[0m\u001b[0;34m\u001b[0m\u001b[0m\n\u001b[0m\u001b[1;32m   1067\u001b[0m             \u001b[0;32mreturn\u001b[0m \u001b[0mself\u001b[0m\u001b[0;34m.\u001b[0m\u001b[0m_getitem_tuple\u001b[0m\u001b[0;34m(\u001b[0m\u001b[0mkey\u001b[0m\u001b[0;34m)\u001b[0m\u001b[0;34m\u001b[0m\u001b[0;34m\u001b[0m\u001b[0m\n\u001b[1;32m   1068\u001b[0m         \u001b[0;32melse\u001b[0m\u001b[0;34m:\u001b[0m\u001b[0;34m\u001b[0m\u001b[0;34m\u001b[0m\u001b[0m\n",
            "\u001b[0;32m/usr/local/lib/python3.10/dist-packages/pandas/core/frame.py\u001b[0m in \u001b[0;36m_get_value\u001b[0;34m(self, index, col, takeable)\u001b[0m\n\u001b[1;32m   3913\u001b[0m         \u001b[0;32mif\u001b[0m \u001b[0mtakeable\u001b[0m\u001b[0;34m:\u001b[0m\u001b[0;34m\u001b[0m\u001b[0;34m\u001b[0m\u001b[0m\n\u001b[1;32m   3914\u001b[0m             \u001b[0mseries\u001b[0m \u001b[0;34m=\u001b[0m \u001b[0mself\u001b[0m\u001b[0;34m.\u001b[0m\u001b[0m_ixs\u001b[0m\u001b[0;34m(\u001b[0m\u001b[0mcol\u001b[0m\u001b[0;34m,\u001b[0m \u001b[0maxis\u001b[0m\u001b[0;34m=\u001b[0m\u001b[0;36m1\u001b[0m\u001b[0;34m)\u001b[0m\u001b[0;34m\u001b[0m\u001b[0;34m\u001b[0m\u001b[0m\n\u001b[0;32m-> 3915\u001b[0;31m             \u001b[0;32mreturn\u001b[0m \u001b[0mseries\u001b[0m\u001b[0;34m.\u001b[0m\u001b[0m_values\u001b[0m\u001b[0;34m[\u001b[0m\u001b[0mindex\u001b[0m\u001b[0;34m]\u001b[0m\u001b[0;34m\u001b[0m\u001b[0;34m\u001b[0m\u001b[0m\n\u001b[0m\u001b[1;32m   3916\u001b[0m \u001b[0;34m\u001b[0m\u001b[0m\n\u001b[1;32m   3917\u001b[0m         \u001b[0mseries\u001b[0m \u001b[0;34m=\u001b[0m \u001b[0mself\u001b[0m\u001b[0;34m.\u001b[0m\u001b[0m_get_item_cache\u001b[0m\u001b[0;34m(\u001b[0m\u001b[0mcol\u001b[0m\u001b[0;34m)\u001b[0m\u001b[0;34m\u001b[0m\u001b[0;34m\u001b[0m\u001b[0m\n",
            "\u001b[0;31mIndexError\u001b[0m: index 1 is out of bounds for axis 0 with size 1"
          ]
        }
      ],
      "source": [
        "for idx, row in df.iterrows():\n",
        "    url = df.iloc[idx+1,2]\n",
        "    file_name = '.\\\\amazon_images\\\\{0}.jpg'.format(idx)\n",
        "    # urllib.request.urlretrieve(url, file_name)\n",
        "    try:\n",
        "        urllib.request.urlretrieve(url, file_name)\n",
        "    except:\n",
        "        pass\n",
        "    print(url)"
      ]
    },
    {
      "cell_type": "code",
      "execution_count": null,
      "metadata": {
        "id": "aqx0iZ33ZQEJ"
      },
      "outputs": [],
      "source": []
    }
  ],
  "metadata": {
    "colab": {
      "provenance": []
    },
    "kernelspec": {
      "display_name": "Python 3 (ipykernel)",
      "language": "python",
      "name": "python3"
    },
    "language_info": {
      "codemirror_mode": {
        "name": "ipython",
        "version": 3
      },
      "file_extension": ".py",
      "mimetype": "text/x-python",
      "name": "python",
      "nbconvert_exporter": "python",
      "pygments_lexer": "ipython3",
      "version": "3.9.12"
    }
  },
  "nbformat": 4,
  "nbformat_minor": 0
}