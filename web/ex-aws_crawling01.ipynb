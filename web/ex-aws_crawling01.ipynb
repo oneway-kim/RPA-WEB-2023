{
  "cells": [
    {
      "cell_type": "code",
      "execution_count": 24,
      "metadata": {
        "id": "6S-gGu707z44"
      },
      "outputs": [],
      "source": [
        "import requests\n",
        "from bs4 import BeautifulSoup\n",
        "import pandas as pd\n",
        "from time import sleep\n",
        "import re"
      ]
    },
    {
      "cell_type": "code",
      "execution_count": 25,
      "metadata": {
        "id": "DbB1jhlujm7n"
      },
      "outputs": [],
      "source": [
        "def cleanText(readData):\n",
        "    text = re.sub('[-=+,#/\\?:^$.@*\\\"※~&%ㆍ!』\\\\‘|\\(\\)\\[\\]\\<\\>`\\'…》]','', readData)\n",
        "    return text"
      ]
    },
    {
      "cell_type": "code",
      "execution_count": 26,
      "metadata": {
        "id": "l8GBvR0Qjm7p"
      },
      "outputs": [],
      "source": [
        "headers = {\n",
        "    'User-Agent': 'Mozilla/5.0 (Windows NT 10.0; Win64; x64; rv:94.0) Gecko/20100101 Firefox/94.0',\n",
        "    'Accept-Language': 'en-US, en;q=0.5'\n",
        "}"
      ]
    },
    {
      "cell_type": "code",
      "execution_count": 27,
      "metadata": {
        "id": "stDWZ2zjjm7q"
      },
      "outputs": [],
      "source": [
        "search_query = 'iphone14'.replace(' ', '+') # zep\n",
        "base_url = 'https://www.amazon.com/s?k={0}'.format(search_query)"
      ]
    },
    {
      "cell_type": "code",
      "execution_count": 28,
      "metadata": {
        "id": "Hr-RATypjm7r",
        "outputId": "a1a4e688-6f9c-468a-88dc-0c40d0c97a45",
        "colab": {
          "base_uri": "https://localhost:8080/"
        }
      },
      "outputs": [
        {
          "output_type": "stream",
          "name": "stdout",
          "text": [
            "Processing https://www.amazon.com/s?k=iphone14&page=1...\n",
            "Processing https://www.amazon.com/s?k=iphone14&page=2...\n",
            "Processing https://www.amazon.com/s?k=iphone14&page=3...\n",
            "Processing https://www.amazon.com/s?k=iphone14&page=4...\n",
            "Processing https://www.amazon.com/s?k=iphone14&page=5...\n",
            "Processing https://www.amazon.com/s?k=iphone14&page=6...\n",
            "Processing https://www.amazon.com/s?k=iphone14&page=7...\n",
            "Processing https://www.amazon.com/s?k=iphone14&page=8...\n",
            "Processing https://www.amazon.com/s?k=iphone14&page=9...\n",
            "Processing https://www.amazon.com/s?k=iphone14&page=10...\n",
            "Processing https://www.amazon.com/s?k=iphone14&page=11...\n",
            "Processing https://www.amazon.com/s?k=iphone14&page=12...\n",
            "Processing https://www.amazon.com/s?k=iphone14&page=13...\n",
            "Processing https://www.amazon.com/s?k=iphone14&page=14...\n",
            "Processing https://www.amazon.com/s?k=iphone14&page=15...\n",
            "Processing https://www.amazon.com/s?k=iphone14&page=16...\n",
            "Processing https://www.amazon.com/s?k=iphone14&page=17...\n",
            "Processing https://www.amazon.com/s?k=iphone14&page=18...\n",
            "Processing https://www.amazon.com/s?k=iphone14&page=19...\n",
            "Processing https://www.amazon.com/s?k=iphone14&page=20...\n",
            "Processing https://www.amazon.com/s?k=iphone14&page=21...\n",
            "Processing https://www.amazon.com/s?k=iphone14&page=22...\n",
            "Processing https://www.amazon.com/s?k=iphone14&page=23...\n",
            "Processing https://www.amazon.com/s?k=iphone14&page=24...\n",
            "Processing https://www.amazon.com/s?k=iphone14&page=25...\n",
            "Processing https://www.amazon.com/s?k=iphone14&page=26...\n",
            "Processing https://www.amazon.com/s?k=iphone14&page=27...\n",
            "Processing https://www.amazon.com/s?k=iphone14&page=28...\n",
            "Processing https://www.amazon.com/s?k=iphone14&page=29...\n",
            "Processing https://www.amazon.com/s?k=iphone14&page=30...\n",
            "Processing https://www.amazon.com/s?k=iphone14&page=31...\n",
            "Processing https://www.amazon.com/s?k=iphone14&page=32...\n",
            "Processing https://www.amazon.com/s?k=iphone14&page=33...\n",
            "Processing https://www.amazon.com/s?k=iphone14&page=34...\n",
            "Processing https://www.amazon.com/s?k=iphone14&page=35...\n",
            "Processing https://www.amazon.com/s?k=iphone14&page=36...\n",
            "Processing https://www.amazon.com/s?k=iphone14&page=37...\n",
            "Processing https://www.amazon.com/s?k=iphone14&page=38...\n",
            "Processing https://www.amazon.com/s?k=iphone14&page=39...\n",
            "Processing https://www.amazon.com/s?k=iphone14&page=40...\n",
            "Processing https://www.amazon.com/s?k=iphone14&page=41...\n",
            "Processing https://www.amazon.com/s?k=iphone14&page=42...\n",
            "Processing https://www.amazon.com/s?k=iphone14&page=43...\n",
            "Processing https://www.amazon.com/s?k=iphone14&page=44...\n",
            "Processing https://www.amazon.com/s?k=iphone14&page=45...\n",
            "Processing https://www.amazon.com/s?k=iphone14&page=46...\n",
            "Processing https://www.amazon.com/s?k=iphone14&page=47...\n",
            "Processing https://www.amazon.com/s?k=iphone14&page=48...\n",
            "Processing https://www.amazon.com/s?k=iphone14&page=49...\n"
          ]
        }
      ],
      "source": [
        "items = []\n",
        "for i in range(1, 50):\n",
        "    print('Processing {0}...'.format(base_url + '&page={0}'.format(i)))\n",
        "    response = requests.get(base_url + '&page={0}'.format(i), headers=headers)\n",
        "    soup = BeautifulSoup(response.content, 'html.parser')\n",
        "\n",
        "    results = soup.find_all('div', {'class': 's-result-item', 'data-component-type': 's-search-result'})\n",
        "\n",
        "    for result in results:\n",
        "        product_name = result.h2.text\n",
        "\n",
        "        try:\n",
        "            rating = result.find('i', {'class': 'a-icon'}).text\n",
        "            rating_count = result.find_all('span', {'aria-label': True})[1].text\n",
        "        except AttributeError:\n",
        "            continue\n",
        "\n",
        "        try:\n",
        "            price1 = result.find('span', {'class': 'a-price-whole'}).text\n",
        "            price1 = cleanText(price1)\n",
        "            price2 = result.find('span', {'class': 'a-price-fraction'}).text\n",
        "            price2 = cleanText(price2)\n",
        "            price = float(price1 + price2)\n",
        "            product_url = 'https://amazon.com' + result.h2.a['href']\n",
        "            # print(rating_count, product_url)\n",
        "            items.append([product_name, rating, rating_count, price, product_url])\n",
        "        except AttributeError:\n",
        "            continue\n",
        "    sleep(1.5)"
      ]
    },
    {
      "cell_type": "code",
      "execution_count": 29,
      "metadata": {
        "id": "0qT4ZRoyjm7u"
      },
      "outputs": [],
      "source": [
        "df = pd.DataFrame(items, columns=['product', 'rating', 'rating count', 'price', 'product url'])\n",
        "df['price'] = df['price']/100\n",
        "df.to_csv('{0}.csv'.format(search_query), index=False)"
      ]
    },
    {
      "cell_type": "code",
      "execution_count": 30,
      "metadata": {
        "id": "nIvkLZjqjm7v",
        "outputId": "7995d7d5-27b8-4232-c5b2-b9feca8f90fc",
        "colab": {
          "base_uri": "https://localhost:8080/",
          "height": 441
        }
      },
      "outputs": [
        {
          "output_type": "execute_result",
          "data": {
            "text/plain": [
              "                                              product              rating  \\\n",
              "11  Ailun Glass Screen Protector for iPhone 14/14 ...  4.5 out of 5 stars   \n",
              "12  Ailun 2 Pack Privacy Screen Protector for iPho...  4.5 out of 5 stars   \n",
              "13  JETech Case for iPhone 14 6.1-Inch, Non-Yellow...  4.7 out of 5 stars   \n",
              "14  ZTHLL Compatible with iPhone 14 Pro Max Case,S...  4.4 out of 5 stars   \n",
              "15  Cyberowl Case for iPhone 14 Pro Max Compatible...  5.0 out of 5 stars   \n",
              "\n",
              "   rating count  price                                        product url  \n",
              "11      5,505     7.88  https://amazon.com/Ailun-Protector-Tempered-Pr...  \n",
              "12      1,300     8.98  https://amazon.com/Ailun-Protector-Tempered-Fr...  \n",
              "13      2,998     9.99  https://amazon.com/JETech-6-1-Inch-Non-Yellowi...  \n",
              "14         44    11.99  https://amazon.com/Compatible-Mountain-Phoneca...  \n",
              "15          1    15.99  https://amazon.com/Cyberowl-Compatible-Militar...  "
            ],
            "text/html": [
              "\n",
              "  <div id=\"df-5ee07f00-4a46-4fd1-99ef-69ea439a7923\">\n",
              "    <div class=\"colab-df-container\">\n",
              "      <div>\n",
              "<style scoped>\n",
              "    .dataframe tbody tr th:only-of-type {\n",
              "        vertical-align: middle;\n",
              "    }\n",
              "\n",
              "    .dataframe tbody tr th {\n",
              "        vertical-align: top;\n",
              "    }\n",
              "\n",
              "    .dataframe thead th {\n",
              "        text-align: right;\n",
              "    }\n",
              "</style>\n",
              "<table border=\"1\" class=\"dataframe\">\n",
              "  <thead>\n",
              "    <tr style=\"text-align: right;\">\n",
              "      <th></th>\n",
              "      <th>product</th>\n",
              "      <th>rating</th>\n",
              "      <th>rating count</th>\n",
              "      <th>price</th>\n",
              "      <th>product url</th>\n",
              "    </tr>\n",
              "  </thead>\n",
              "  <tbody>\n",
              "    <tr>\n",
              "      <th>11</th>\n",
              "      <td>Ailun Glass Screen Protector for iPhone 14/14 ...</td>\n",
              "      <td>4.5 out of 5 stars</td>\n",
              "      <td>5,505</td>\n",
              "      <td>7.88</td>\n",
              "      <td>https://amazon.com/Ailun-Protector-Tempered-Pr...</td>\n",
              "    </tr>\n",
              "    <tr>\n",
              "      <th>12</th>\n",
              "      <td>Ailun 2 Pack Privacy Screen Protector for iPho...</td>\n",
              "      <td>4.5 out of 5 stars</td>\n",
              "      <td>1,300</td>\n",
              "      <td>8.98</td>\n",
              "      <td>https://amazon.com/Ailun-Protector-Tempered-Fr...</td>\n",
              "    </tr>\n",
              "    <tr>\n",
              "      <th>13</th>\n",
              "      <td>JETech Case for iPhone 14 6.1-Inch, Non-Yellow...</td>\n",
              "      <td>4.7 out of 5 stars</td>\n",
              "      <td>2,998</td>\n",
              "      <td>9.99</td>\n",
              "      <td>https://amazon.com/JETech-6-1-Inch-Non-Yellowi...</td>\n",
              "    </tr>\n",
              "    <tr>\n",
              "      <th>14</th>\n",
              "      <td>ZTHLL Compatible with iPhone 14 Pro Max Case,S...</td>\n",
              "      <td>4.4 out of 5 stars</td>\n",
              "      <td>44</td>\n",
              "      <td>11.99</td>\n",
              "      <td>https://amazon.com/Compatible-Mountain-Phoneca...</td>\n",
              "    </tr>\n",
              "    <tr>\n",
              "      <th>15</th>\n",
              "      <td>Cyberowl Case for iPhone 14 Pro Max Compatible...</td>\n",
              "      <td>5.0 out of 5 stars</td>\n",
              "      <td>1</td>\n",
              "      <td>15.99</td>\n",
              "      <td>https://amazon.com/Cyberowl-Compatible-Militar...</td>\n",
              "    </tr>\n",
              "  </tbody>\n",
              "</table>\n",
              "</div>\n",
              "      <button class=\"colab-df-convert\" onclick=\"convertToInteractive('df-5ee07f00-4a46-4fd1-99ef-69ea439a7923')\"\n",
              "              title=\"Convert this dataframe to an interactive table.\"\n",
              "              style=\"display:none;\">\n",
              "        \n",
              "  <svg xmlns=\"http://www.w3.org/2000/svg\" height=\"24px\"viewBox=\"0 0 24 24\"\n",
              "       width=\"24px\">\n",
              "    <path d=\"M0 0h24v24H0V0z\" fill=\"none\"/>\n",
              "    <path d=\"M18.56 5.44l.94 2.06.94-2.06 2.06-.94-2.06-.94-.94-2.06-.94 2.06-2.06.94zm-11 1L8.5 8.5l.94-2.06 2.06-.94-2.06-.94L8.5 2.5l-.94 2.06-2.06.94zm10 10l.94 2.06.94-2.06 2.06-.94-2.06-.94-.94-2.06-.94 2.06-2.06.94z\"/><path d=\"M17.41 7.96l-1.37-1.37c-.4-.4-.92-.59-1.43-.59-.52 0-1.04.2-1.43.59L10.3 9.45l-7.72 7.72c-.78.78-.78 2.05 0 2.83L4 21.41c.39.39.9.59 1.41.59.51 0 1.02-.2 1.41-.59l7.78-7.78 2.81-2.81c.8-.78.8-2.07 0-2.86zM5.41 20L4 18.59l7.72-7.72 1.47 1.35L5.41 20z\"/>\n",
              "  </svg>\n",
              "      </button>\n",
              "      \n",
              "  <style>\n",
              "    .colab-df-container {\n",
              "      display:flex;\n",
              "      flex-wrap:wrap;\n",
              "      gap: 12px;\n",
              "    }\n",
              "\n",
              "    .colab-df-convert {\n",
              "      background-color: #E8F0FE;\n",
              "      border: none;\n",
              "      border-radius: 50%;\n",
              "      cursor: pointer;\n",
              "      display: none;\n",
              "      fill: #1967D2;\n",
              "      height: 32px;\n",
              "      padding: 0 0 0 0;\n",
              "      width: 32px;\n",
              "    }\n",
              "\n",
              "    .colab-df-convert:hover {\n",
              "      background-color: #E2EBFA;\n",
              "      box-shadow: 0px 1px 2px rgba(60, 64, 67, 0.3), 0px 1px 3px 1px rgba(60, 64, 67, 0.15);\n",
              "      fill: #174EA6;\n",
              "    }\n",
              "\n",
              "    [theme=dark] .colab-df-convert {\n",
              "      background-color: #3B4455;\n",
              "      fill: #D2E3FC;\n",
              "    }\n",
              "\n",
              "    [theme=dark] .colab-df-convert:hover {\n",
              "      background-color: #434B5C;\n",
              "      box-shadow: 0px 1px 3px 1px rgba(0, 0, 0, 0.15);\n",
              "      filter: drop-shadow(0px 1px 2px rgba(0, 0, 0, 0.3));\n",
              "      fill: #FFFFFF;\n",
              "    }\n",
              "  </style>\n",
              "\n",
              "      <script>\n",
              "        const buttonEl =\n",
              "          document.querySelector('#df-5ee07f00-4a46-4fd1-99ef-69ea439a7923 button.colab-df-convert');\n",
              "        buttonEl.style.display =\n",
              "          google.colab.kernel.accessAllowed ? 'block' : 'none';\n",
              "\n",
              "        async function convertToInteractive(key) {\n",
              "          const element = document.querySelector('#df-5ee07f00-4a46-4fd1-99ef-69ea439a7923');\n",
              "          const dataTable =\n",
              "            await google.colab.kernel.invokeFunction('convertToInteractive',\n",
              "                                                     [key], {});\n",
              "          if (!dataTable) return;\n",
              "\n",
              "          const docLinkHtml = 'Like what you see? Visit the ' +\n",
              "            '<a target=\"_blank\" href=https://colab.research.google.com/notebooks/data_table.ipynb>data table notebook</a>'\n",
              "            + ' to learn more about interactive tables.';\n",
              "          element.innerHTML = '';\n",
              "          dataTable['output_type'] = 'display_data';\n",
              "          await google.colab.output.renderOutput(dataTable, element);\n",
              "          const docLink = document.createElement('div');\n",
              "          docLink.innerHTML = docLinkHtml;\n",
              "          element.appendChild(docLink);\n",
              "        }\n",
              "      </script>\n",
              "    </div>\n",
              "  </div>\n",
              "  "
            ]
          },
          "metadata": {},
          "execution_count": 30
        }
      ],
      "source": [
        "df.tail()"
      ]
    },
    {
      "cell_type": "code",
      "execution_count": 31,
      "metadata": {
        "id": "M02TpfyWjm7w"
      },
      "outputs": [],
      "source": [
        "df.to_csv('amazon-1017.csv')"
      ]
    },
    {
      "cell_type": "code",
      "execution_count": 32,
      "metadata": {
        "id": "xfOi_E_4jm7x"
      },
      "outputs": [],
      "source": [
        "df['product url'].to_csv('amazon-url.csv')"
      ]
    },
    {
      "cell_type": "code",
      "execution_count": 32,
      "metadata": {
        "id": "2vVeO7l2jm7y"
      },
      "outputs": [],
      "source": []
    },
    {
      "cell_type": "code",
      "execution_count": 32,
      "metadata": {
        "id": "_VPub_lIjm7z"
      },
      "outputs": [],
      "source": []
    },
    {
      "cell_type": "markdown",
      "metadata": {
        "id": "9gjQn_UMjm7z"
      },
      "source": [
        "### 새로 시작 하세요! - Kernel restart"
      ]
    },
    {
      "cell_type": "code",
      "execution_count": 32,
      "metadata": {
        "id": "WIDBoRcyjm71"
      },
      "outputs": [],
      "source": []
    },
    {
      "cell_type": "code",
      "execution_count": 33,
      "metadata": {
        "id": "1OVx-IkCjm71"
      },
      "outputs": [],
      "source": [
        "headers = {\n",
        "    'User-Agent': 'Mozilla/5.0 (Windows NT 10.0; Win64; x64; rv:94.0) Gecko/20100101 Firefox/94.0',\n",
        "    'Accept-Language': 'en-US, en;q=0.5'\n",
        "}"
      ]
    },
    {
      "cell_type": "code",
      "execution_count": 34,
      "metadata": {
        "id": "9HYKx1Wejm71"
      },
      "outputs": [],
      "source": [
        "import pandas as pd\n",
        "import requests\n",
        "from bs4 import BeautifulSoup\n",
        "from time import sleep\n",
        "# import simplified_scrapy\n",
        "# from simplified_scrapy.simplified_doc import SimplifiedDoc"
      ]
    },
    {
      "cell_type": "code",
      "execution_count": 35,
      "metadata": {
        "id": "PIvwlGfnjm71"
      },
      "outputs": [],
      "source": [
        "df = pd.read_csv(\"amazon-url.csv\", header=None)"
      ]
    },
    {
      "cell_type": "code",
      "execution_count": 36,
      "metadata": {
        "id": "0E020-g1jm72",
        "outputId": "632e58ff-db4e-48f5-c34c-1e0aa6ba4111",
        "colab": {
          "base_uri": "https://localhost:8080/"
        }
      },
      "outputs": [
        {
          "output_type": "execute_result",
          "data": {
            "text/plain": [
              "Int64Index([0, 1], dtype='int64')"
            ]
          },
          "metadata": {},
          "execution_count": 36
        }
      ],
      "source": [
        "df.columns"
      ]
    },
    {
      "cell_type": "code",
      "execution_count": 37,
      "metadata": {
        "id": "P4ulO-hrjm72"
      },
      "outputs": [],
      "source": [
        "images = []"
      ]
    },
    {
      "cell_type": "code",
      "execution_count": 38,
      "metadata": {
        "id": "9HZNiu84jm72"
      },
      "outputs": [],
      "source": [
        "# url = df.iloc[1,1]\n",
        "# response = requests.get(url, headers=headers)\n",
        "# soup = BeautifulSoup(response.content, 'html.parser')\n",
        "# results = soup.find_all('div', {'id': 'imgTagWrapperId', 'class': 'imgTagWrapper'})\n",
        "# for result in results:\n",
        "#     print(result)\n",
        "#     image_url = result.img['src']\n",
        "#     image_tag = result.img['alt']\n",
        "#     images.append([images_tag, image_url])\n",
        "\n",
        "# print(image_url)\n",
        "# sleep(0.5)"
      ]
    },
    {
      "cell_type": "code",
      "execution_count": 38,
      "metadata": {
        "id": "PWE4LwS1jm72"
      },
      "outputs": [],
      "source": []
    },
    {
      "cell_type": "code",
      "execution_count": 39,
      "metadata": {
        "id": "I94P3l75jm72",
        "outputId": "dc259449-b585-4363-c100-2d945b3ad50a",
        "colab": {
          "base_uri": "https://localhost:8080/",
          "height": 206
        }
      },
      "outputs": [
        {
          "output_type": "execute_result",
          "data": {
            "text/plain": [
              "     0                                                  1\n",
              "0  NaN                                        product url\n",
              "1  0.0  https://amazon.com/Apple-iPhone-14-128GB-Purpl...\n",
              "2  1.0  https://amazon.com/Apple-iPhone-14-128GB-Blue/...\n",
              "3  2.0  https://amazon.com/Apple-iPhone-14-Pro-Max/dp/...\n",
              "4  3.0  https://amazon.com/Apple-iPhone-14-Pro-Max/dp/..."
            ],
            "text/html": [
              "\n",
              "  <div id=\"df-213fd8b0-b688-496d-ad23-6780736a8dbe\">\n",
              "    <div class=\"colab-df-container\">\n",
              "      <div>\n",
              "<style scoped>\n",
              "    .dataframe tbody tr th:only-of-type {\n",
              "        vertical-align: middle;\n",
              "    }\n",
              "\n",
              "    .dataframe tbody tr th {\n",
              "        vertical-align: top;\n",
              "    }\n",
              "\n",
              "    .dataframe thead th {\n",
              "        text-align: right;\n",
              "    }\n",
              "</style>\n",
              "<table border=\"1\" class=\"dataframe\">\n",
              "  <thead>\n",
              "    <tr style=\"text-align: right;\">\n",
              "      <th></th>\n",
              "      <th>0</th>\n",
              "      <th>1</th>\n",
              "    </tr>\n",
              "  </thead>\n",
              "  <tbody>\n",
              "    <tr>\n",
              "      <th>0</th>\n",
              "      <td>NaN</td>\n",
              "      <td>product url</td>\n",
              "    </tr>\n",
              "    <tr>\n",
              "      <th>1</th>\n",
              "      <td>0.0</td>\n",
              "      <td>https://amazon.com/Apple-iPhone-14-128GB-Purpl...</td>\n",
              "    </tr>\n",
              "    <tr>\n",
              "      <th>2</th>\n",
              "      <td>1.0</td>\n",
              "      <td>https://amazon.com/Apple-iPhone-14-128GB-Blue/...</td>\n",
              "    </tr>\n",
              "    <tr>\n",
              "      <th>3</th>\n",
              "      <td>2.0</td>\n",
              "      <td>https://amazon.com/Apple-iPhone-14-Pro-Max/dp/...</td>\n",
              "    </tr>\n",
              "    <tr>\n",
              "      <th>4</th>\n",
              "      <td>3.0</td>\n",
              "      <td>https://amazon.com/Apple-iPhone-14-Pro-Max/dp/...</td>\n",
              "    </tr>\n",
              "  </tbody>\n",
              "</table>\n",
              "</div>\n",
              "      <button class=\"colab-df-convert\" onclick=\"convertToInteractive('df-213fd8b0-b688-496d-ad23-6780736a8dbe')\"\n",
              "              title=\"Convert this dataframe to an interactive table.\"\n",
              "              style=\"display:none;\">\n",
              "        \n",
              "  <svg xmlns=\"http://www.w3.org/2000/svg\" height=\"24px\"viewBox=\"0 0 24 24\"\n",
              "       width=\"24px\">\n",
              "    <path d=\"M0 0h24v24H0V0z\" fill=\"none\"/>\n",
              "    <path d=\"M18.56 5.44l.94 2.06.94-2.06 2.06-.94-2.06-.94-.94-2.06-.94 2.06-2.06.94zm-11 1L8.5 8.5l.94-2.06 2.06-.94-2.06-.94L8.5 2.5l-.94 2.06-2.06.94zm10 10l.94 2.06.94-2.06 2.06-.94-2.06-.94-.94-2.06-.94 2.06-2.06.94z\"/><path d=\"M17.41 7.96l-1.37-1.37c-.4-.4-.92-.59-1.43-.59-.52 0-1.04.2-1.43.59L10.3 9.45l-7.72 7.72c-.78.78-.78 2.05 0 2.83L4 21.41c.39.39.9.59 1.41.59.51 0 1.02-.2 1.41-.59l7.78-7.78 2.81-2.81c.8-.78.8-2.07 0-2.86zM5.41 20L4 18.59l7.72-7.72 1.47 1.35L5.41 20z\"/>\n",
              "  </svg>\n",
              "      </button>\n",
              "      \n",
              "  <style>\n",
              "    .colab-df-container {\n",
              "      display:flex;\n",
              "      flex-wrap:wrap;\n",
              "      gap: 12px;\n",
              "    }\n",
              "\n",
              "    .colab-df-convert {\n",
              "      background-color: #E8F0FE;\n",
              "      border: none;\n",
              "      border-radius: 50%;\n",
              "      cursor: pointer;\n",
              "      display: none;\n",
              "      fill: #1967D2;\n",
              "      height: 32px;\n",
              "      padding: 0 0 0 0;\n",
              "      width: 32px;\n",
              "    }\n",
              "\n",
              "    .colab-df-convert:hover {\n",
              "      background-color: #E2EBFA;\n",
              "      box-shadow: 0px 1px 2px rgba(60, 64, 67, 0.3), 0px 1px 3px 1px rgba(60, 64, 67, 0.15);\n",
              "      fill: #174EA6;\n",
              "    }\n",
              "\n",
              "    [theme=dark] .colab-df-convert {\n",
              "      background-color: #3B4455;\n",
              "      fill: #D2E3FC;\n",
              "    }\n",
              "\n",
              "    [theme=dark] .colab-df-convert:hover {\n",
              "      background-color: #434B5C;\n",
              "      box-shadow: 0px 1px 3px 1px rgba(0, 0, 0, 0.15);\n",
              "      filter: drop-shadow(0px 1px 2px rgba(0, 0, 0, 0.3));\n",
              "      fill: #FFFFFF;\n",
              "    }\n",
              "  </style>\n",
              "\n",
              "      <script>\n",
              "        const buttonEl =\n",
              "          document.querySelector('#df-213fd8b0-b688-496d-ad23-6780736a8dbe button.colab-df-convert');\n",
              "        buttonEl.style.display =\n",
              "          google.colab.kernel.accessAllowed ? 'block' : 'none';\n",
              "\n",
              "        async function convertToInteractive(key) {\n",
              "          const element = document.querySelector('#df-213fd8b0-b688-496d-ad23-6780736a8dbe');\n",
              "          const dataTable =\n",
              "            await google.colab.kernel.invokeFunction('convertToInteractive',\n",
              "                                                     [key], {});\n",
              "          if (!dataTable) return;\n",
              "\n",
              "          const docLinkHtml = 'Like what you see? Visit the ' +\n",
              "            '<a target=\"_blank\" href=https://colab.research.google.com/notebooks/data_table.ipynb>data table notebook</a>'\n",
              "            + ' to learn more about interactive tables.';\n",
              "          element.innerHTML = '';\n",
              "          dataTable['output_type'] = 'display_data';\n",
              "          await google.colab.output.renderOutput(dataTable, element);\n",
              "          const docLink = document.createElement('div');\n",
              "          docLink.innerHTML = docLinkHtml;\n",
              "          element.appendChild(docLink);\n",
              "        }\n",
              "      </script>\n",
              "    </div>\n",
              "  </div>\n",
              "  "
            ]
          },
          "metadata": {},
          "execution_count": 39
        }
      ],
      "source": [
        "# for idx, row in df.iterrows():\n",
        "# url = df.iloc[idx+1,1]\n",
        "df.head()"
      ]
    },
    {
      "cell_type": "code",
      "execution_count": 40,
      "metadata": {
        "id": "nnp0lROQjm73",
        "outputId": "26b4cdf8-105a-4535-edf9-bc0af8ac2fdd",
        "colab": {
          "base_uri": "https://localhost:8080/"
        }
      },
      "outputs": [
        {
          "output_type": "stream",
          "name": "stdout",
          "text": [
            "<!--\n",
            "        To discuss automated access to Amazon data please contact api-services-support@amazon.com.\n",
            "        For information about migrating to our APIs refer to our Marketplace APIs at https://developer.amazonservices.com/ref=rm_5_sv, or our Product Advertising API at https://affiliate-program.amazon.com/gp/advertising/api/detail/main.html/ref=rm_5_ac for advertising use cases.\n",
            "-->\n",
            "<!DOCTYPE html>\n",
            "\n",
            "<html>\n",
            "<head>\n",
            "<meta charset=\"utf-8\"/>\n",
            "<meta content=\"ie=edge\" http-equiv=\"x-ua-compatible\"/>\n",
            "<meta content=\"width=device-width, initial-scale=1, shrink-to-fit=no\" name=\"viewport\"/>\n",
            "<title>Sorry! Something went wrong!</title>\n",
            "<style>\n",
            "  html, body {\n",
            "    padding: 0;\n",
            "    margin: 0\n",
            "  }\n",
            "\n",
            "  img {\n",
            "    border: 0\n",
            "  }\n",
            "\n",
            "  #a {\n",
            "    background: #232f3e;\n",
            "    padding: 11px 11px 11px 192px\n",
            "  }\n",
            "\n",
            "  #b {\n",
            "    position: absolute;\n",
            "    left: 22px;\n",
            "    top: 12px\n",
            "  }\n",
            "\n",
            "  #c {\n",
            "    position: relative;\n",
            "    max-width: 800px;\n",
            "    padding: 0 40px 0 0\n",
            "  }\n",
            "\n",
            "  #e, #f {\n",
            "    height: 35px;\n",
            "    border: 0;\n",
            "    font-size: 1em\n",
            "  }\n",
            "\n",
            "  #e {\n",
            "    width: 100%;\n",
            "    margin: 0;\n",
            "    padding: 0 10px;\n",
            "    border-radius: 4px 0 0 4px\n",
            "  }\n",
            "\n",
            "  #f {\n",
            "    cursor: pointer;\n",
            "    background: #febd69;\n",
            "    font-weight: bold;\n",
            "    border-radius: 0 4px 4px 0;\n",
            "    -webkit-appearance: none;\n",
            "    position: absolute;\n",
            "    top: 0;\n",
            "    right: 0;\n",
            "    padding: 0 12px\n",
            "  }\n",
            "\n",
            "  @media (max-width: 500px) {\n",
            "    #a {\n",
            "      padding: 55px 10px 10px\n",
            "    }\n",
            "\n",
            "    #b {\n",
            "      left: 6px\n",
            "    }\n",
            "  }\n",
            "\n",
            "  #g {\n",
            "    text-align: center;\n",
            "    margin: 30px 0\n",
            "  }\n",
            "\n",
            "  #g img {\n",
            "    max-width: 90%\n",
            "  }\n",
            "\n",
            "  #d {\n",
            "    display: none\n",
            "  }\n",
            "\n",
            "  #d[src] {\n",
            "    display: inline\n",
            "  }\n",
            "  </style>\n",
            "</head>\n",
            "<body>\n",
            "<a href=\"/ref=cs_503_logo\"><img alt=\"Amazon.com\" id=\"b\" src=\"https://images-na.ssl-images-amazon.com/images/G/01/error/logo._TTD_.png\"/></a>\n",
            "<form accept-charset=\"utf-8\" action=\"/s\" id=\"a\" method=\"GET\" role=\"search\">\n",
            "<div id=\"c\">\n",
            "<input id=\"e\" name=\"field-keywords\" placeholder=\"Search\"/>\n",
            "<input name=\"ref\" type=\"hidden\" value=\"cs_503_search\"/>\n",
            "<input id=\"f\" type=\"submit\" value=\"Go\"/>\n",
            "</div>\n",
            "</form>\n",
            "<div id=\"g\">\n",
            "<div><a href=\"/ref=cs_503_link\"><img alt=\"Sorry! Something went wrong on our end. Please go back and try again or go to Amazon's home page.\" src=\"https://images-na.ssl-images-amazon.com/images/G/01/error/500_503.png\"/></a>\n",
            "</div>\n",
            "<a href=\"/dogsofamazon/ref=cs_503_d\" rel=\"noopener noreferrer\" target=\"_blank\"><img alt=\"Dogs of Amazon\" id=\"d\"/></a>\n",
            "<script>document.getElementById(\"d\").src = \"https://images-na.ssl-images-amazon.com/images/G/01/error/\" + (Math.floor(Math.random() * 43) + 1) + \"._TTD_.jpg\";</script>\n",
            "</div>\n",
            "</body>\n",
            "</html>\n",
            "\n",
            "[<div id=\"c\">\n",
            "<input id=\"e\" name=\"field-keywords\" placeholder=\"Search\"/>\n",
            "<input name=\"ref\" type=\"hidden\" value=\"cs_503_search\"/>\n",
            "<input id=\"f\" type=\"submit\" value=\"Go\"/>\n",
            "</div>, <div id=\"g\">\n",
            "<div><a href=\"/ref=cs_503_link\"><img alt=\"Sorry! Something went wrong on our end. Please go back and try again or go to Amazon's home page.\" src=\"https://images-na.ssl-images-amazon.com/images/G/01/error/500_503.png\"/></a>\n",
            "</div>\n",
            "<a href=\"/dogsofamazon/ref=cs_503_d\" rel=\"noopener noreferrer\" target=\"_blank\"><img alt=\"Dogs of Amazon\" id=\"d\"/></a>\n",
            "<script>document.getElementById(\"d\").src = \"https://images-na.ssl-images-amazon.com/images/G/01/error/\" + (Math.floor(Math.random() * 43) + 1) + \"._TTD_.jpg\";</script>\n",
            "</div>, <div><a href=\"/ref=cs_503_link\"><img alt=\"Sorry! Something went wrong on our end. Please go back and try again or go to Amazon's home page.\" src=\"https://images-na.ssl-images-amazon.com/images/G/01/error/500_503.png\"/></a>\n",
            "</div>]\n"
          ]
        }
      ],
      "source": [
        "#url = df.iloc[1,1]\n",
        "url='https://www.amazon.com/Medify-MA-50-Air-Purifier-filter/dp/B08S2Y6CTX/ref=sr_1_1_sspa?keywords=air%2Bpurifier&qid=1665383112&qu=eyJxc2MiOiI2LjY4IiwicXNhIjoiNi40NSIsInFzcCI6IjYuMTUifQ%3D%3D&sr=8-1-spons&spLa=ZW5jcnlwdGVkUXVhbGlmaWVyPUEzVVo0WkZVVzc1WUNZJmVuY3J5cHRlZElkPUExMDEzNDk1M0xTRVg2UEU3NkJYWCZlbmNyeXB0ZWRBZElkPUEwMjcyNTIwU1lHODNJTldaM1M0JndpZGdldE5hbWU9c3BfYXRmJmFjdGlvbj1jbGlja1JlZGlyZWN0JmRvTm90TG9nQ2xpY2s9dHJ1ZQ&th=1'\n",
        "#response = requests.get(url, headers=headers)\n",
        "response = requests.get(url)\n",
        "#soup = BeautifulSoup(response.text, 'html.parser')\n",
        "soup = BeautifulSoup(response.content, 'html.parser')\n",
        "print(soup)\n",
        "\n",
        "#results = soup.find_all('div', {'class': 'a-section a-spacing-small a-spacing-top-small'})\n",
        "#results = soup.select('div.a-section a-spacing-small a-spacing-top-small')\n",
        "#results = soup.find_all('div')\n",
        "results = soup.select('div')\n",
        "print(results)"
      ]
    },
    {
      "cell_type": "code",
      "execution_count": 41,
      "metadata": {
        "id": "qV84EXwhjm73",
        "outputId": "c93e7491-9195-4efb-8cd9-b920ec40ac59",
        "colab": {
          "base_uri": "https://localhost:8080/",
          "height": 54
        }
      },
      "outputs": [
        {
          "output_type": "execute_result",
          "data": {
            "text/plain": [
              "\"\\n#for result in results:\\n    # print(result)\\n    image_tag = result.img['alt']\\n    image_url = result.img['src']\\n    images.append([image_tag, image_url])\\n    \""
            ],
            "application/vnd.google.colaboratory.intrinsic+json": {
              "type": "string"
            }
          },
          "metadata": {},
          "execution_count": 41
        }
      ],
      "source": [
        "'''\n",
        "#for result in results:\n",
        "    # print(result)\n",
        "    image_tag = result.img['alt']\n",
        "    image_url = result.img['src']\n",
        "    images.append([image_tag, image_url])\n",
        "    '''\n",
        "\n",
        "    # print(image_url)\n",
        "    # sleep(0.5)"
      ]
    },
    {
      "cell_type": "code",
      "execution_count": 42,
      "metadata": {
        "id": "MCLAl2Oqjm73"
      },
      "outputs": [],
      "source": [
        "df_images = pd.DataFrame(images, columns=['Product Detail', 'image url'])"
      ]
    },
    {
      "cell_type": "code",
      "execution_count": 43,
      "metadata": {
        "id": "I62EROmVjm73"
      },
      "outputs": [],
      "source": [
        "df_images.to_csv('amazon_images_url.csv')"
      ]
    },
    {
      "cell_type": "code",
      "execution_count": 43,
      "metadata": {
        "id": "PiSPMBRdjm74"
      },
      "outputs": [],
      "source": []
    },
    {
      "cell_type": "code",
      "execution_count": 43,
      "metadata": {
        "id": "NmJnYxdBjm74"
      },
      "outputs": [],
      "source": []
    },
    {
      "cell_type": "code",
      "execution_count": 43,
      "metadata": {
        "id": "4drDkXeyjm74"
      },
      "outputs": [],
      "source": []
    },
    {
      "cell_type": "markdown",
      "metadata": {
        "id": "CI8tlNj5jm74"
      },
      "source": [
        "### Kernel 다시 시작해 주세요!"
      ]
    },
    {
      "cell_type": "markdown",
      "metadata": {
        "id": "gtcPObqxjm74"
      },
      "source": [
        "### URL로부터 image 가져오기"
      ]
    },
    {
      "cell_type": "code",
      "execution_count": 44,
      "metadata": {
        "id": "70I-gm5Qjm74"
      },
      "outputs": [],
      "source": [
        "import pandas as pd\n",
        "import urllib.request\n",
        "import re\n",
        "import sys"
      ]
    },
    {
      "cell_type": "code",
      "execution_count": 45,
      "metadata": {
        "id": "z4gLcoSWjm74"
      },
      "outputs": [],
      "source": [
        "df = pd.read_csv(\"amazon_images_url.csv\", header=None)"
      ]
    },
    {
      "cell_type": "code",
      "execution_count": 45,
      "metadata": {
        "id": "2eSoyuiIjm75"
      },
      "outputs": [],
      "source": []
    },
    {
      "cell_type": "code",
      "execution_count": 46,
      "metadata": {
        "id": "RRkBigcpjm75",
        "outputId": "296bcce1-6dd6-4361-e879-3983f62826bc",
        "colab": {
          "base_uri": "https://localhost:8080/",
          "height": 418
        }
      },
      "outputs": [
        {
          "output_type": "error",
          "ename": "IndexError",
          "evalue": "ignored",
          "traceback": [
            "\u001b[0;31m---------------------------------------------------------------------------\u001b[0m",
            "\u001b[0;31mIndexError\u001b[0m                                Traceback (most recent call last)",
            "\u001b[0;32m<ipython-input-46-793c979c3b24>\u001b[0m in \u001b[0;36m<cell line: 1>\u001b[0;34m()\u001b[0m\n\u001b[1;32m      1\u001b[0m \u001b[0;32mfor\u001b[0m \u001b[0midx\u001b[0m\u001b[0;34m,\u001b[0m \u001b[0mrow\u001b[0m \u001b[0;32min\u001b[0m \u001b[0mdf\u001b[0m\u001b[0;34m.\u001b[0m\u001b[0miterrows\u001b[0m\u001b[0;34m(\u001b[0m\u001b[0;34m)\u001b[0m\u001b[0;34m:\u001b[0m\u001b[0;34m\u001b[0m\u001b[0;34m\u001b[0m\u001b[0m\n\u001b[0;32m----> 2\u001b[0;31m     \u001b[0murl\u001b[0m \u001b[0;34m=\u001b[0m \u001b[0mdf\u001b[0m\u001b[0;34m.\u001b[0m\u001b[0miloc\u001b[0m\u001b[0;34m[\u001b[0m\u001b[0midx\u001b[0m\u001b[0;34m+\u001b[0m\u001b[0;36m1\u001b[0m\u001b[0;34m,\u001b[0m\u001b[0;36m2\u001b[0m\u001b[0;34m]\u001b[0m\u001b[0;34m\u001b[0m\u001b[0;34m\u001b[0m\u001b[0m\n\u001b[0m\u001b[1;32m      3\u001b[0m     \u001b[0mfile_name\u001b[0m \u001b[0;34m=\u001b[0m \u001b[0;34m'.\\\\amazon_images\\\\{0}.jpg'\u001b[0m\u001b[0;34m.\u001b[0m\u001b[0mformat\u001b[0m\u001b[0;34m(\u001b[0m\u001b[0midx\u001b[0m\u001b[0;34m)\u001b[0m\u001b[0;34m\u001b[0m\u001b[0;34m\u001b[0m\u001b[0m\n\u001b[1;32m      4\u001b[0m     \u001b[0;31m# urllib.request.urlretrieve(url, file_name)\u001b[0m\u001b[0;34m\u001b[0m\u001b[0;34m\u001b[0m\u001b[0m\n\u001b[1;32m      5\u001b[0m     \u001b[0;32mtry\u001b[0m\u001b[0;34m:\u001b[0m\u001b[0;34m\u001b[0m\u001b[0;34m\u001b[0m\u001b[0m\n",
            "\u001b[0;32m/usr/local/lib/python3.10/dist-packages/pandas/core/indexing.py\u001b[0m in \u001b[0;36m__getitem__\u001b[0;34m(self, key)\u001b[0m\n\u001b[1;32m   1064\u001b[0m             \u001b[0mkey\u001b[0m \u001b[0;34m=\u001b[0m \u001b[0mtuple\u001b[0m\u001b[0;34m(\u001b[0m\u001b[0mcom\u001b[0m\u001b[0;34m.\u001b[0m\u001b[0mapply_if_callable\u001b[0m\u001b[0;34m(\u001b[0m\u001b[0mx\u001b[0m\u001b[0;34m,\u001b[0m \u001b[0mself\u001b[0m\u001b[0;34m.\u001b[0m\u001b[0mobj\u001b[0m\u001b[0;34m)\u001b[0m \u001b[0;32mfor\u001b[0m \u001b[0mx\u001b[0m \u001b[0;32min\u001b[0m \u001b[0mkey\u001b[0m\u001b[0;34m)\u001b[0m\u001b[0;34m\u001b[0m\u001b[0;34m\u001b[0m\u001b[0m\n\u001b[1;32m   1065\u001b[0m             \u001b[0;32mif\u001b[0m \u001b[0mself\u001b[0m\u001b[0;34m.\u001b[0m\u001b[0m_is_scalar_access\u001b[0m\u001b[0;34m(\u001b[0m\u001b[0mkey\u001b[0m\u001b[0;34m)\u001b[0m\u001b[0;34m:\u001b[0m\u001b[0;34m\u001b[0m\u001b[0;34m\u001b[0m\u001b[0m\n\u001b[0;32m-> 1066\u001b[0;31m                 \u001b[0;32mreturn\u001b[0m \u001b[0mself\u001b[0m\u001b[0;34m.\u001b[0m\u001b[0mobj\u001b[0m\u001b[0;34m.\u001b[0m\u001b[0m_get_value\u001b[0m\u001b[0;34m(\u001b[0m\u001b[0;34m*\u001b[0m\u001b[0mkey\u001b[0m\u001b[0;34m,\u001b[0m \u001b[0mtakeable\u001b[0m\u001b[0;34m=\u001b[0m\u001b[0mself\u001b[0m\u001b[0;34m.\u001b[0m\u001b[0m_takeable\u001b[0m\u001b[0;34m)\u001b[0m\u001b[0;34m\u001b[0m\u001b[0;34m\u001b[0m\u001b[0m\n\u001b[0m\u001b[1;32m   1067\u001b[0m             \u001b[0;32mreturn\u001b[0m \u001b[0mself\u001b[0m\u001b[0;34m.\u001b[0m\u001b[0m_getitem_tuple\u001b[0m\u001b[0;34m(\u001b[0m\u001b[0mkey\u001b[0m\u001b[0;34m)\u001b[0m\u001b[0;34m\u001b[0m\u001b[0;34m\u001b[0m\u001b[0m\n\u001b[1;32m   1068\u001b[0m         \u001b[0;32melse\u001b[0m\u001b[0;34m:\u001b[0m\u001b[0;34m\u001b[0m\u001b[0;34m\u001b[0m\u001b[0m\n",
            "\u001b[0;32m/usr/local/lib/python3.10/dist-packages/pandas/core/frame.py\u001b[0m in \u001b[0;36m_get_value\u001b[0;34m(self, index, col, takeable)\u001b[0m\n\u001b[1;32m   3913\u001b[0m         \u001b[0;32mif\u001b[0m \u001b[0mtakeable\u001b[0m\u001b[0;34m:\u001b[0m\u001b[0;34m\u001b[0m\u001b[0;34m\u001b[0m\u001b[0m\n\u001b[1;32m   3914\u001b[0m             \u001b[0mseries\u001b[0m \u001b[0;34m=\u001b[0m \u001b[0mself\u001b[0m\u001b[0;34m.\u001b[0m\u001b[0m_ixs\u001b[0m\u001b[0;34m(\u001b[0m\u001b[0mcol\u001b[0m\u001b[0;34m,\u001b[0m \u001b[0maxis\u001b[0m\u001b[0;34m=\u001b[0m\u001b[0;36m1\u001b[0m\u001b[0;34m)\u001b[0m\u001b[0;34m\u001b[0m\u001b[0;34m\u001b[0m\u001b[0m\n\u001b[0;32m-> 3915\u001b[0;31m             \u001b[0;32mreturn\u001b[0m \u001b[0mseries\u001b[0m\u001b[0;34m.\u001b[0m\u001b[0m_values\u001b[0m\u001b[0;34m[\u001b[0m\u001b[0mindex\u001b[0m\u001b[0;34m]\u001b[0m\u001b[0;34m\u001b[0m\u001b[0;34m\u001b[0m\u001b[0m\n\u001b[0m\u001b[1;32m   3916\u001b[0m \u001b[0;34m\u001b[0m\u001b[0m\n\u001b[1;32m   3917\u001b[0m         \u001b[0mseries\u001b[0m \u001b[0;34m=\u001b[0m \u001b[0mself\u001b[0m\u001b[0;34m.\u001b[0m\u001b[0m_get_item_cache\u001b[0m\u001b[0;34m(\u001b[0m\u001b[0mcol\u001b[0m\u001b[0;34m)\u001b[0m\u001b[0;34m\u001b[0m\u001b[0;34m\u001b[0m\u001b[0m\n",
            "\u001b[0;31mIndexError\u001b[0m: index 1 is out of bounds for axis 0 with size 1"
          ]
        }
      ],
      "source": [
        "for idx, row in df.iterrows():\n",
        "    url = df.iloc[idx+1,2]\n",
        "    file_name = '.\\\\amazon_images\\\\{0}.jpg'.format(idx)\n",
        "    # urllib.request.urlretrieve(url, file_name)\n",
        "    try:\n",
        "        urllib.request.urlretrieve(url, file_name)\n",
        "    except:\n",
        "        pass\n",
        "    print(url)"
      ]
    },
    {
      "cell_type": "code",
      "execution_count": null,
      "metadata": {
        "id": "SFuuY9H6jm75"
      },
      "outputs": [],
      "source": []
    }
  ],
  "metadata": {
    "colab": {
      "provenance": []
    },
    "kernelspec": {
      "display_name": "Python 3 (ipykernel)",
      "language": "python",
      "name": "python3"
    },
    "language_info": {
      "codemirror_mode": {
        "name": "ipython",
        "version": 3
      },
      "file_extension": ".py",
      "mimetype": "text/x-python",
      "name": "python",
      "nbconvert_exporter": "python",
      "pygments_lexer": "ipython3",
      "version": "3.9.12"
    }
  },
  "nbformat": 4,
  "nbformat_minor": 0
}