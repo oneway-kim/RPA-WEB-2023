{
  "cells": [
    {
      "cell_type": "code",
      "execution_count": 17,
      "id": "07d21fc6-9f78-480b-8405-f9d4a4f43594",
      "metadata": {
        "id": "07d21fc6-9f78-480b-8405-f9d4a4f43594"
      },
      "outputs": [],
      "source": [
        "import requests\n",
        "from bs4 import BeautifulSoup\n",
        "import pandas as pd\n",
        "from time import sleep\n",
        "import re"
      ]
    },
    {
      "cell_type": "code",
      "execution_count": 18,
      "id": "ab0322cc-da80-408b-ab83-a33a39c56784",
      "metadata": {
        "id": "ab0322cc-da80-408b-ab83-a33a39c56784"
      },
      "outputs": [],
      "source": [
        "def cleanText(readData):\n",
        "    text = re.sub('[-=+,#/\\?:^$.@*\\\"※~&%ㆍ!』\\\\‘|\\(\\)\\[\\]\\<\\>`\\'…》]','', readData)\n",
        "    return text"
      ]
    },
    {
      "cell_type": "code",
      "execution_count": 19,
      "id": "4d86e1c7-686d-4459-8c9b-7dbc07f3d45d",
      "metadata": {
        "id": "4d86e1c7-686d-4459-8c9b-7dbc07f3d45d"
      },
      "outputs": [],
      "source": [
        "headers = {\n",
        "    'User-Agent': 'Mozilla/5.0 (Windows NT 10.0; Win64; x64; rv:94.0) Gecko/20100101 Firefox/94.0',\n",
        "    'Accept-Language': 'en-US, en;q=0.5'\n",
        "}"
      ]
    },
    {
      "cell_type": "code",
      "execution_count": 20,
      "id": "c73f28e3-d492-4288-90e6-b148e0284ca7",
      "metadata": {
        "id": "c73f28e3-d492-4288-90e6-b148e0284ca7"
      },
      "outputs": [],
      "source": [
        "search_query = 'air purifier'.replace(' ', '+') # zep\n",
        "base_url = 'https://www.amazon.com/s?k={0}'.format(search_query)"
      ]
    },
    {
      "cell_type": "code",
      "execution_count": 21,
      "id": "9a08f4c3-dab4-42f6-9c52-1ba67790492b",
      "metadata": {
        "id": "9a08f4c3-dab4-42f6-9c52-1ba67790492b"
      },
      "outputs": [],
      "source": [
        "response = requests.get(base_url + '&page={0}', headers=headers)\n",
        "soup = BeautifulSoup(response.content, 'html.parser')"
      ]
    },
    {
      "cell_type": "code",
      "execution_count": 22,
      "id": "51093a72-2883-4835-a88d-bdffe47b791b",
      "metadata": {
        "id": "51093a72-2883-4835-a88d-bdffe47b791b"
      },
      "outputs": [],
      "source": [
        "results = soup.find_all('div', {'class': 's-result-item', 'data-component-type': 's-search-result'})"
      ]
    },
    {
      "cell_type": "code",
      "execution_count": 23,
      "id": "0387421e-8b2d-4117-bc37-211e0e6e518f",
      "metadata": {
        "id": "0387421e-8b2d-4117-bc37-211e0e6e518f",
        "outputId": "94aafcbb-129b-421b-9ee8-33ed1bc27baa",
        "colab": {
          "base_uri": "https://localhost:8080/"
        }
      },
      "outputs": [
        {
          "output_type": "execute_result",
          "data": {
            "text/plain": [
              "0"
            ]
          },
          "metadata": {},
          "execution_count": 23
        }
      ],
      "source": [
        "len(results)"
      ]
    },
    {
      "cell_type": "code",
      "execution_count": 24,
      "id": "dc5957a9-5676-46fb-ab03-60bde85ebe90",
      "metadata": {
        "id": "dc5957a9-5676-46fb-ab03-60bde85ebe90",
        "outputId": "37ca5e62-499a-44a9-d5aa-49378e6ebfa0",
        "colab": {
          "base_uri": "https://localhost:8080/",
          "height": 173
        }
      },
      "outputs": [
        {
          "output_type": "error",
          "ename": "IndexError",
          "evalue": "ignored",
          "traceback": [
            "\u001b[0;31m---------------------------------------------------------------------------\u001b[0m",
            "\u001b[0;31mIndexError\u001b[0m                                Traceback (most recent call last)",
            "\u001b[0;32m<ipython-input-24-20d136d9e17f>\u001b[0m in \u001b[0;36m<cell line: 1>\u001b[0;34m()\u001b[0m\n\u001b[0;32m----> 1\u001b[0;31m \u001b[0mproduct_name\u001b[0m \u001b[0;34m=\u001b[0m \u001b[0mresults\u001b[0m\u001b[0;34m[\u001b[0m\u001b[0;36m0\u001b[0m\u001b[0;34m]\u001b[0m\u001b[0;34m.\u001b[0m\u001b[0mh2\u001b[0m\u001b[0;34m.\u001b[0m\u001b[0mtext\u001b[0m\u001b[0;34m\u001b[0m\u001b[0;34m\u001b[0m\u001b[0m\n\u001b[0m",
            "\u001b[0;31mIndexError\u001b[0m: list index out of range"
          ]
        }
      ],
      "source": [
        "product_name = results[0].h2.text"
      ]
    },
    {
      "cell_type": "code",
      "execution_count": null,
      "id": "3946760a-c0a3-4105-980a-717e6d23f5e3",
      "metadata": {
        "id": "3946760a-c0a3-4105-980a-717e6d23f5e3"
      },
      "outputs": [],
      "source": [
        "product_name"
      ]
    },
    {
      "cell_type": "code",
      "execution_count": null,
      "id": "3b788221-dbb7-402a-881d-3671191ba3de",
      "metadata": {
        "id": "3b788221-dbb7-402a-881d-3671191ba3de"
      },
      "outputs": [],
      "source": [
        "rating = results[0].find('i', {'class': 'a-icon'}).text"
      ]
    },
    {
      "cell_type": "code",
      "execution_count": null,
      "id": "13878f12-2437-4207-b8b1-18bfc8dc5c49",
      "metadata": {
        "id": "13878f12-2437-4207-b8b1-18bfc8dc5c49"
      },
      "outputs": [],
      "source": [
        "rating"
      ]
    },
    {
      "cell_type": "code",
      "execution_count": null,
      "id": "e7b50faa-d025-4dd7-b509-992eb0f1862f",
      "metadata": {
        "id": "e7b50faa-d025-4dd7-b509-992eb0f1862f"
      },
      "outputs": [],
      "source": [
        "price1 = results[0].find('span', {'class': 'a-price-whole'}).text"
      ]
    },
    {
      "cell_type": "code",
      "execution_count": null,
      "id": "74d39abe-7f14-4412-b85e-931e2e68fcb7",
      "metadata": {
        "id": "74d39abe-7f14-4412-b85e-931e2e68fcb7"
      },
      "outputs": [],
      "source": [
        "price1"
      ]
    },
    {
      "cell_type": "code",
      "execution_count": null,
      "id": "d908601b-57e4-4f22-80df-f3fad281a874",
      "metadata": {
        "id": "d908601b-57e4-4f22-80df-f3fad281a874"
      },
      "outputs": [],
      "source": []
    }
  ],
  "metadata": {
    "kernelspec": {
      "display_name": "Python 3 (ipykernel)",
      "language": "python",
      "name": "python3"
    },
    "language_info": {
      "codemirror_mode": {
        "name": "ipython",
        "version": 3
      },
      "file_extension": ".py",
      "mimetype": "text/x-python",
      "name": "python",
      "nbconvert_exporter": "python",
      "pygments_lexer": "ipython3",
      "version": "3.10.9"
    },
    "colab": {
      "provenance": []
    }
  },
  "nbformat": 4,
  "nbformat_minor": 5
}